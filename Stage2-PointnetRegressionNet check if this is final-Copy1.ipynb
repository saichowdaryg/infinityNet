{
 "cells": [
  {
   "cell_type": "code",
   "execution_count": 1,
   "metadata": {},
   "outputs": [
    {
     "name": "stderr",
     "output_type": "stream",
     "text": [
      "/opt/conda/lib/python3.6/importlib/_bootstrap.py:219: RuntimeWarning: compiletime version 3.5 of module 'tensorflow.python.framework.fast_tensor_util' does not match runtime version 3.6\n",
      "  return f(*args, **kwds)\n",
      "/opt/conda/lib/python3.6/site-packages/h5py/__init__.py:36: FutureWarning: Conversion of the second argument of issubdtype from `float` to `np.floating` is deprecated. In future, it will be treated as `np.float64 == np.dtype(float).type`.\n",
      "  from ._conv import register_converters as _register_converters\n"
     ]
    },
    {
     "name": "stdout",
     "output_type": "stream",
     "text": [
      "Wed, 13 June 2018 10:02:44\n"
     ]
    }
   ],
   "source": [
    "import pyntcloud\n",
    "import pickle\n",
    "import tensorflow as tf\n",
    "import numpy as np\n",
    "import importlib\n",
    "from train import provider\n",
    "from train import box_util\n",
    "import tf_util #for conv2d\n",
    "from model_util import NUM_HEADING_BIN, NUM_SIZE_CLUSTER, NUM_OBJECT_POINT\n",
    "from model_util import point_cloud_masking, get_center_regression_net\n",
    "from model_util import placeholder_inputs, parse_output_to_tensors, get_loss\n",
    "from model_util import huber_loss\n",
    "import datetime\n",
    "import logging\n",
    "from random import shuffle\n",
    "import pandas as pd\n",
    "from tensorflow.python import debug as tf_debug\n",
    "print(datetime.datetime.now().strftime(\"%a, %d %B %Y %I:%M:%S\"))\n",
    "from tensorflow.python import debug\n",
    "from pyntcloud import PyntCloud\n",
    "from box_util import box3d_iou\n",
    "import sys"
   ]
  },
  {
   "cell_type": "code",
   "execution_count": 2,
   "metadata": {},
   "outputs": [
    {
     "data": {
      "text/plain": [
       "<module 'train.provider' from '/datasets/home/90/490/scgullap/ece_285_proj/frustum-pointnets/train/provider.py'>"
      ]
     },
     "execution_count": 2,
     "metadata": {},
     "output_type": "execute_result"
    }
   ],
   "source": [
    "importlib.reload(box_util)\n",
    "importlib.reload(provider)"
   ]
  },
  {
   "cell_type": "code",
   "execution_count": 3,
   "metadata": {},
   "outputs": [],
   "source": [
    "def get_center_regression_net(object_point_cloud, one_hot_vec=None,\n",
    "                              is_training=True, bn_decay=True):\n",
    "    ''' Regression network for center delta. a.k.a. T-Net.\n",
    "    Input:\n",
    "        object_point_cloud: TF tensor in shape (B,M,C)\n",
    "            point clouds in 3D mask coordinate\n",
    "        one_hot_vec: TF tensor in shape (B,3)\n",
    "            length-3 vectors indicating predicted object type\n",
    "    Output:\n",
    "        predicted_center: TF tensor in shape (B,3)\n",
    "    ''' \n",
    "    #object_point_cloud=tf.reshape(object_point_cloud,(None,512,3))\n",
    "    num_point = object_point_cloud.get_shape()[1].value\n",
    "    net = tf.expand_dims(object_point_cloud, 2)\n",
    "    #(B,512,1,4)\n",
    "    \n",
    "    \n",
    "    net = tf_util.conv2d(net, 128, [1,1],\n",
    "                         padding='VALID', stride=[1,1],\n",
    "                         bn=True, is_training=is_training,\n",
    "                         scope='conv-reg1-stage1', bn_decay=bn_decay)\n",
    "    net = tf_util.conv2d(net, 128, [1,1],\n",
    "                         padding='VALID', stride=[1,1],\n",
    "                         bn=True, is_training=is_training,\n",
    "                         scope='conv-reg2-stage1', bn_decay=bn_decay)\n",
    "    net = tf_util.conv2d(net, 256, [1,1],\n",
    "                         padding='VALID', stride=[1,1],\n",
    "                         bn=True, is_training=is_training,\n",
    "                         scope='conv-reg3-stage1', bn_decay=bn_decay)\n",
    "    net = tf_util.max_pool2d(net, [num_point,1],\n",
    "        padding='VALID', scope='maxpool-stage1')\n",
    "    net = tf.squeeze(net, axis=[1,2])\n",
    "    #net = tf.concat([net, one_hot_vec], axis=1)\n",
    "    net = tf_util.fully_connected(net, 256, scope='fc1-stage1', bn=True,\n",
    "        is_training=is_training, bn_decay=bn_decay)\n",
    "    net = tf_util.fully_connected(net, 128, scope='fc2-stage1', bn=True,\n",
    "        is_training=is_training, bn_decay=bn_decay)\n",
    "    predicted_center = tf_util.fully_connected(net, 3, activation_fn=None,\n",
    "        scope='fc3-stage1')\n",
    "    return predicted_center"
   ]
  },
  {
   "cell_type": "code",
   "execution_count": 4,
   "metadata": {},
   "outputs": [],
   "source": [
    "NUM_HEADING_BIN=6\n",
    "NUM_SIZE_CLUSTER=1\n",
    "def get_3d_box_estimation_v1_net(object_point_cloud, one_hot_vec=None,\n",
    "                                 is_training=True, bn_decay=True):\n",
    "    ''' 3D Box Estimation PointNet v1 network.\n",
    "    Input:\n",
    "        object_point_cloud: TF tensor in shape (B,M,C)\n",
    "            point clouds in object coordinate\n",
    "        one_hot_vec: TF tensor in shape (B,3)\n",
    "            length-3 vectors indicating predicted object type\n",
    "    Output:\n",
    "        output: TF tensor in shape (B,3+NUM_HEADING_BIN*2+NUM_SIZE_CLUSTER*4)\n",
    "            including box centers, heading bin class scores and residuals,\n",
    "            and size cluster scores and residuals\n",
    "    ''' \n",
    "    #object_point_cloud=tf.reshape(object_point_cloud,(None,512,3))\n",
    "    num_point = object_point_cloud.get_shape()[1].value\n",
    "    net = tf.expand_dims(object_point_cloud, 2)\n",
    "    net = tf_util.conv2d(net, 128, [1,1],\n",
    "                         padding='VALID', stride=[1,1],\n",
    "                         bn=True, is_training=is_training,\n",
    "                         scope='conv-reg1', bn_decay=bn_decay)\n",
    "    net = tf_util.conv2d(net, 128, [1,1],\n",
    "                         padding='VALID', stride=[1,1],\n",
    "                         bn=True, is_training=is_training,\n",
    "                         scope='conv-reg2', bn_decay=bn_decay)\n",
    "    net = tf_util.conv2d(net, 256, [1,1],\n",
    "                         padding='VALID', stride=[1,1],\n",
    "                         bn=True, is_training=is_training,\n",
    "                         scope='conv-reg3', bn_decay=bn_decay)\n",
    "    net = tf_util.conv2d(net, 512, [1,1],\n",
    "                         padding='VALID', stride=[1,1],\n",
    "                         bn=True, is_training=is_training,\n",
    "                         scope='conv-reg4', bn_decay=bn_decay)\n",
    "    net = tf_util.max_pool2d(net, [num_point,1],\n",
    "        padding='VALID', scope='maxpool2')\n",
    "    net = tf.squeeze(net, axis=[1,2])\n",
    "    #fonet = tf.concat([net, one_hot_vec], axis=1)\n",
    "    net = tf_util.fully_connected(net, 512, scope='fc1', bn=True,\n",
    "        is_training=is_training, bn_decay=bn_decay)\n",
    "    net = tf_util.fully_connected(net, 256, scope='fc2', bn=True,\n",
    "        is_training=is_training, bn_decay=bn_decay)\n",
    "\n",
    "    # The first 3 numbers: box center coordinates (cx,cy,cz),\n",
    "    # the next NUM_HEADING_BIN*2:  heading bin class scores and bin residuals\n",
    "    # next sizelbh_residuals: l,b,h residuals\n",
    "    output = tf_util.fully_connected(net,\n",
    "        3+3+NUM_HEADING_BIN*2, activation_fn=None, scope='fc3')\n",
    "    return output"
   ]
  },
  {
   "cell_type": "code",
   "execution_count": 5,
   "metadata": {},
   "outputs": [
    {
     "name": "stdout",
     "output_type": "stream",
     "text": [
      "(1, 3)\n"
     ]
    }
   ],
   "source": [
    "\n",
    "#g_mean_size_arr = np.zeros((NUM_SIZE_CLUSTER, 3))\n",
    "g_mean_size_arr =  np.array([[0.84422524,0.66068622,1.76255119]])\n",
    "print(g_mean_size_arr.shape)\n",
    "def get_box3d_corners_helper(centers, headings, sizes):\n",
    "    \"\"\" TF layer. Input: (N,3), (N,), (N,3), Output: (N,8,3) \"\"\"\n",
    "    #print '-----', centers\n",
    "    N = 5\n",
    "    l = tf.slice(sizes, [0,0], [-1,1]) # (N,1)\n",
    "    w = tf.slice(sizes, [0,1], [-1,1]) # (N,1)\n",
    "    h = tf.slice(sizes, [0,2], [-1,1]) # (N,1)\n",
    "    #print l,w,h\n",
    "    x_corners = tf.concat([l/2,l/2,-l/2,-l/2,l/2,l/2,-l/2,-l/2], axis=1) # (N,8)\n",
    "    y_corners = tf.concat([h/2,h/2,h/2,h/2,-h/2,-h/2,-h/2,-h/2], axis=1) # (N,8)\n",
    "    z_corners = tf.concat([w/2,-w/2,-w/2,w/2,w/2,-w/2,-w/2,w/2], axis=1) # (N,8)\n",
    "    corners = tf.concat([tf.expand_dims(x_corners,1), tf.expand_dims(y_corners,1), tf.expand_dims(z_corners,1)], axis=1) # (N,3,8)\n",
    "    #print x_corners, y_corners, z_corners\n",
    "    c = tf.cos(headings)\n",
    "    s = tf.sin(headings)\n",
    "    ones = tf.ones([N], dtype=tf.float32)\n",
    "    zeros = tf.zeros([N], dtype=tf.float32)\n",
    "    row1 = tf.stack([c,zeros,s], axis=1) # (N,3)\n",
    "    row2 = tf.stack([zeros,ones,zeros], axis=1)\n",
    "    row3 = tf.stack([-s,zeros,c], axis=1)\n",
    "    R = tf.concat([tf.expand_dims(row1,1), tf.expand_dims(row2,1), tf.expand_dims(row3,1)], axis=1) # (N,3,3)\n",
    "    #print row1, row2, row3, R, N\n",
    "    corners_3d = tf.matmul(R, corners) # (N,3,8)\n",
    "    corners_3d += tf.tile(tf.expand_dims(centers,2), [1,1,8]) # (N,3,8)\n",
    "    corners_3d = tf.transpose(corners_3d, perm=[0,2,1]) # (N,8,3)\n",
    "    return corners_3d\n",
    "\n",
    "def get_corners2(outputs,heading_class_label,stage1_center, flip=False,test=False):\n",
    "    centers=outputs[:,:3]+tf.squeeze(stage1_center,axis=1)\n",
    "    sizes=outputs[:,3:6]+tf.constant(g_mean_size_arr, tf.float32)\n",
    "    \n",
    "    heading_bin_centers = tf.constant(np.arange(0,np.pi,np.pi/NUM_HEADING_BIN), dtype=tf.float32) \n",
    "    \n",
    "    def if_true():\n",
    "        max_ind = tf.argmax(outputs[:,6:12],axis=-1)\n",
    "        print('shape of max_ind= ',max_ind.get_shape())\n",
    "        test_onehot = tf.one_hot(max_ind, 6, 1.0, 0.0, axis=1, dtype=tf.float32)\n",
    "        print('shape of one_hot= ',test_onehot.get_shape())\n",
    "        #headingclass_angle = max_ind*tf.constant(2*np.pi/NUM_HEADING_BIN, dtype=float32)\n",
    "        \n",
    "        if not flip:\n",
    "            headings=tf.reduce_sum(tf.multiply(tf.to_float(test_onehot),outputs[:,12:]+tf.reshape(heading_bin_centers,(1,6))),axis=1)\n",
    "        else:\n",
    "            headings=tf.reduce_sum(tf.multiply(tf.to_float(test_onehot),outputs[:,12:]+tf.reshape(heading_bin_centers,(1,6))),axis=1)+tf.constant(np.pi)\n",
    "    \n",
    "        return get_box3d_corners_helper(centers,headings,sizes)\n",
    "    \n",
    "    def if_false():\n",
    "        if not flip:\n",
    "            headings=tf.reduce_sum(tf.multiply(tf.to_float(heading_class_label),outputs[:,12:]+tf.reshape(heading_bin_centers,(1,6))),axis=1)\n",
    "        else:\n",
    "            headings=tf.reduce_sum(tf.multiply(tf.to_float(heading_class_label),outputs[:,12:]+tf.reshape(heading_bin_centers,(1,6))),axis=1)+tf.constant(np.pi)\n",
    "    \n",
    " \n",
    "        return get_box3d_corners_helper(centers,headings,sizes)\n",
    "\n",
    "    return tf.cond(test,if_true,if_false)\n",
    "\n",
    "\n",
    "def get_corners(outputs,heading_class_label,stage1_center, flip=False):\n",
    "    centers=outputs[:,:3]+tf.squeeze(stage1_center,axis=1)\n",
    "    sizes=outputs[:,3:6]+tf.constant(g_mean_size_arr, tf.float32)\n",
    "    \n",
    "    heading_bin_centers = tf.constant(np.arange(0,np.pi,np.pi/NUM_HEADING_BIN), dtype=tf.float32) \n",
    "    \n",
    "    \n",
    "    \n",
    "    \n",
    "    if not flip:\n",
    "            headings=tf.reduce_sum(tf.multiply(tf.to_float(heading_class_label),outputs[:,12:]+tf.reshape(heading_bin_centers,(1,6))),axis=1)\n",
    "    else:\n",
    "            headings=tf.reduce_sum(tf.multiply(tf.to_float(heading_class_label),outputs[:,12:]+tf.reshape(heading_bin_centers,(1,6))),axis=1)+tf.constant(np.pi)\n",
    "    \n",
    " \n",
    "    return get_box3d_corners_helper(centers,headings,sizes)\n",
    "\n",
    "    \n",
    "        \n",
    "    \n",
    "    #max_ind = tf.argmax(outputs[6:18], axis=1)\n",
    "    \n",
    "    \n",
    "    #correct_heading_res = tf.multiply(outputs[:,6:18],outputs[:,18:30])\n",
    "    \n",
    "    #headings = output[:] + tf.expand_dims(heading_bin_centers[max_ind], 0)\n",
    "    "
   ]
  },
  {
   "cell_type": "code",
   "execution_count": 43,
   "metadata": {
    "scrolled": false
   },
   "outputs": [
    {
     "name": "stdout",
     "output_type": "stream",
     "text": [
      "shape of sel_win_centroid=  (?, 1, 3)\n",
      "shape of translated_sel_win=  (?, 512, 3)\n",
      "shape of center_delta=  (?, 1, 3)\n",
      "shape of stage1_center=  (?, 1, 3)\n",
      "shape of win_sel_new=  (?, 512, 3)\n",
      "shape of output=  (?, 18)\n",
      "shape of max_ind=  (?,)\n",
      "shape of one_hot=  (?, 6)\n"
     ]
    }
   ],
   "source": [
    "tf.reset_default_graph()\n",
    "with tf.device('/device:GPU:0'):\n",
    "    num_points_5 =512\n",
    "\n",
    "    \n",
    "#     inputs=tf.placeholder(tf.float32,[None,2048,4])#put placeholder\n",
    "\n",
    "#     idx_5 =tf.placeholder(tf.int32,[None,num_points_5,1])\n",
    "\n",
    "   \n",
    "    runfortest=tf.placeholder(tf.bool,name='boooool')\n",
    "    is_training = tf.placeholder(tf.bool, name='bool')\n",
    "    lr=tf.placeholder(tf.float32,name='l_rate')\n",
    "\n",
    "    #label_out_5 = tf.placeholder(tf.int32, [None])\n",
    "    center_reglabel=tf.placeholder(tf.float32,[None,3], name='center')\n",
    "    size_reglabel=tf.placeholder(tf.float32,[None,3], name='size')\n",
    "    heading_class_label=tf.placeholder(tf.int32,[None,6], name='heading')\n",
    "    heading_reglabel=tf.placeholder(tf.float32,[None,6], name='heading_reg')\n",
    "    sel_win=tf.placeholder(tf.float32,[None,512,3], name='points')\n",
    "    corners_labels=tf.placeholder(tf.float32,[None,8,3],name='corners')\n",
    "#     ret1 = tf.multiply(center_reglabel, 2)\n",
    "#     ret2 = tf.multiply(size_reglabel,3)\n",
    "#     ret3 = tf.multiply(heading_class_label,4)\n",
    "#     ret4 = tf.multiply(sel_win,5)\n",
    "    \n",
    "    #sig,logits, label_out,tp,fp,tn,fn, tp_num, maxi,sel_win = classification_net(inputs, label_out_5, idx_5, is_training)\n",
    "    \n",
    "#     print('shape of inputs= ',inputs.get_shape())\n",
    "#     print('shape of inputs= ',idx_5.get_shape())\n",
    "\n",
    "#     func_fl = focal_loss(tf.squeeze(sig),tf.squeeze(tf.cast(label_out, tf.float32)), gamma=0.75, alpha=0.25)\n",
    "#     print(label_out.get_shape())\n",
    "\n",
    "    \n",
    "#     sel_win=sel_win[:,:,:3]\n",
    "    sel_win_centroid=tf.reshape(tf.reduce_mean(tf.cast(sel_win,tf.float32),axis=1),(-1,3))\n",
    "    \n",
    "    first_center = tf.reduce_mean(tf.norm(sel_win_centroid-center_reglabel, axis=-1))\n",
    "    \n",
    "    sel_win_centroid = tf.expand_dims(sel_win_centroid, axis=1)\n",
    "    \n",
    "    \n",
    "    \n",
    "    print('shape of sel_win_centroid= ',sel_win_centroid.get_shape())\n",
    "    translated_sel_win=sel_win-sel_win_centroid\n",
    "    print('shape of translated_sel_win= ',translated_sel_win.get_shape())\n",
    "    \n",
    "    center_delta = get_center_regression_net(translated_sel_win)\n",
    "    center_delta=tf.expand_dims(center_delta, axis=1)\n",
    "    print('shape of center_delta= ',center_delta.get_shape())\n",
    "    \n",
    "    stage1_center = center_delta + sel_win_centroid\n",
    "    print('shape of stage1_center= ',stage1_center.get_shape())\n",
    "    \n",
    "    win_sel_new=sel_win-stage1_center\n",
    "    print('shape of win_sel_new= ',win_sel_new.get_shape())\n",
    "    output= get_3d_box_estimation_v1_net(win_sel_new)\n",
    "    \n",
    "    print('shape of output= ',output.get_shape())\n",
    "    \n",
    "    \n",
    "    \n",
    "    #corners_loss = huber_loss(corners_dist, delta=1.0) \n",
    "    \n",
    "#     #get_box3d_corners()\n",
    "    \n",
    "    #mask_loss = tf.reduce_mean(func_fl)\n",
    "    stage1_center_loss= tf.reduce_mean(tf.norm(center_reglabel - \\\n",
    "        tf.squeeze(stage1_center,axis=1), axis=-1))\n",
    "    center_loss=tf.reduce_mean(tf.norm(center_reglabel - \\\n",
    "        (tf.reshape(output[:,:3],(-1,3))+tf.squeeze(stage1_center,axis=1)), axis=-1))\n",
    "    size_loss=tf.reduce_mean(tf.norm(size_reglabel - \\\n",
    "        tf.reshape(output[:,3:6],(-1,3)), axis=-1))\n",
    "    headingclass_loss=tf.reduce_mean( \\\n",
    "        tf.nn.softmax_cross_entropy_with_logits( \\\n",
    "        logits=output[:,6:12], labels=heading_class_label))\n",
    "    headingclassaccuracy= tf.reduce_mean(tf.cast(tf.equal(tf.argmax(output[:,6:12],axis=-1),tf.argmax(heading_class_label,axis=-1)),tf.float32))\n",
    "    pred_corners=get_corners2(output,heading_class_label,stage1_center, flip=False,test=runfortest)\n",
    "    corners_labels=get_corners(tf.concat([center_reglabel, size_reglabel, tf.to_float(heading_class_label), heading_reglabel], axis=1)\\\n",
    "                               , heading_class_label, tf.zeros([5,1,3], dtype=tf.float32), flip=False)\n",
    "    \n",
    "    corners_labels_flip = get_corners(tf.concat([center_reglabel, size_reglabel, tf.to_float(heading_class_label), heading_reglabel], axis=1)\\\n",
    "                                      , heading_class_label, tf.zeros([5,1,3], dtype=tf.float32), flip=True)\n",
    "    \n",
    "    \n",
    "    corners_dist = tf.reduce_mean(tf.minimum(tf.norm(pred_corners - corners_labels, axis=-1),\n",
    "        tf.norm(pred_corners - corners_labels_flip, axis=-1)))\n",
    "    \n",
    "    correct_heading_reg_gt = tf.reduce_sum(tf.multiply(heading_reglabel, tf.to_float(heading_class_label)),axis=1)\n",
    "    correct_headingreg_pred = tf.reduce_sum(tf.multiply(output[:,12:], tf.to_float(heading_class_label)),axis=1)\n",
    "    headingreg_loss = tf.reduce_mean(tf.norm(correct_heading_reg_gt-correct_headingreg_pred, axis=-1))\n",
    "    #best until now: comb5:65.06%, comb8:63.8% ,comb10:63.66%, comb6:62.9% , comb9:61.3%,comb11:61.2% comb4:61.3%,comb2:~60%, comb7:58.6%\n",
    "#1\n",
    "#    loss=1.0*stage1_center_loss+1.0*center_loss+4.0*size_loss+4.0*headingclass_loss+4.0*headingreg_loss+2.0*corners_dist\n",
    "#2\n",
    "#    loss=2.0*stage1_center_loss+2.0*center_loss+4.0*size_loss+4.0*headingclass_loss+4.0*headingreg_loss+2.0*corners_dist\n",
    "#3\n",
    "#    loss=4.0*stage1_center_loss+4.0*center_loss+4.0*size_loss+4.0*headingclass_loss+4.0*headingreg_loss+2.0*corners_dist\n",
    "#4\n",
    "#    loss=3.0*stage1_center_loss+3.0*center_loss+4.0*size_loss+2.0*headingclass_loss+2.0*headingreg_loss+2.0*corners_dist\n",
    "#    loss=6.0*stage1_center_loss+6.0*center_loss+8.0*size_loss+1.0*headingclass_loss+2.5*headingreg_loss+4.0*corners_dist\n",
    "#5\n",
    "    loss=3.0*stage1_center_loss+3.0*center_loss+4.0*size_loss+1.0*headingclass_loss+1.0*headingreg_loss+2.0*corners_dist\n",
    "#6\n",
    "#     loss=3.0*stage1_center_loss+3.0*center_loss+4.0*size_loss+1.0*headingclass_loss+1.0*headingreg_loss+0.0*corners_dist\n",
    "#7\n",
    "#     loss=3.0*stage1_center_loss+3.0*center_loss+3.0*size_loss+1.0*headingclass_loss+1.0*headingreg_loss+2.0*corners_dist\n",
    "#8\n",
    "#     loss=3.0*stage1_center_loss+3.0*center_loss+5.0*size_loss+1.0*headingclass_loss+1.0*headingreg_loss+2.0*corners_dist\n",
    "#9\n",
    "    #loss=3.0*stage1_center_loss+3.0*center_loss+5.0*size_loss+0.5*headingclass_loss+0.5*headingreg_loss+2.0*corners_dist\n",
    "#10\n",
    "#    loss=3.0*stage1_center_loss+3.0*center_loss+6.0*size_loss+1.0*headingclass_loss+1.0*headingreg_loss+2.0*corners_dist\n",
    "#11\n",
    "#     loss=3.0*stage1_center_loss+4.0*center_loss+5.0*size_loss+1.0*headingclass_loss+1.0*headingreg_loss+2.0*corners_dist\n",
    "#12\n",
    "#     loss=3.0*stage1_center_loss+3.0*center_loss+5.0*size_loss+1.0*headingclass_loss+1.0*headingreg_loss+2.0*corners_dist\n",
    "\n",
    "    optimizer = tf.train.AdamOptimizer(lr)\n",
    "    #train_step=optimizer.minimize(loss)\n",
    "    update_ops = tf.get_collection(tf.GraphKeys.UPDATE_OPS)\n",
    "    with tf.control_dependencies(update_ops):\n",
    "        train_op = optimizer.minimize(loss)\n",
    "    \n",
    "    "
   ]
  },
  {
   "cell_type": "code",
   "execution_count": 44,
   "metadata": {},
   "outputs": [
    {
     "data": {
      "text/plain": [
       "((15345, 9), (15345, 512, 4))"
      ]
     },
     "execution_count": 44,
     "metadata": {},
     "output_type": "execute_result"
    }
   ],
   "source": [
    "gt_class_windows=np.load('./Windows/selwin.npy', allow_pickle=True)\n",
    "gt_extras=np.load('./Windows/selextras.npy', allow_pickle=True)\n",
    "gt_extras=gt_extras[:-3,:]\n",
    "gt_class_windows=gt_class_windows[:-3,:]\n",
    "gt_extras.shape,gt_class_windows.shape"
   ]
  },
  {
   "cell_type": "code",
   "execution_count": 45,
   "metadata": {},
   "outputs": [
    {
     "data": {
      "text/plain": [
       "((10635, 9), (10635, 512, 3))"
      ]
     },
     "execution_count": 45,
     "metadata": {},
     "output_type": "execute_result"
    }
   ],
   "source": [
    "class_windows=np.load('./Windows/train_selwin.npy', allow_pickle=True)\n",
    "extras=np.load('./Windows/train_selextras.npy', allow_pickle=True)\n",
    "extras=extras[:-4,:]\n",
    "class_windows=class_windows[:-4,:]\n",
    "extras.shape,class_windows.shape"
   ]
  },
  {
   "cell_type": "code",
   "execution_count": 46,
   "metadata": {},
   "outputs": [
    {
     "data": {
      "text/plain": [
       "((2235, 9), (2235, 512, 3))"
      ]
     },
     "execution_count": 46,
     "metadata": {},
     "output_type": "execute_result"
    }
   ],
   "source": [
    "val_class_windows=np.load('./Windows/val_selwin.npy', allow_pickle=True)\n",
    "val_extras=np.load('./Windows/val_selextras.npy', allow_pickle=True)\n",
    "val_extras=val_extras[:-4,:]\n",
    "val_class_windows=val_class_windows[:-4,:]\n",
    "val_extras.shape,val_class_windows.shape"
   ]
  },
  {
   "cell_type": "code",
   "execution_count": null,
   "metadata": {},
   "outputs": [],
   "source": []
  },
  {
   "cell_type": "code",
   "execution_count": 47,
   "metadata": {},
   "outputs": [],
   "source": [
    "# class_windows.shape,val_class_windows.shape"
   ]
  },
  {
   "cell_type": "code",
   "execution_count": 48,
   "metadata": {},
   "outputs": [],
   "source": [
    "#class_windows[i:i+batchsize,:,:3].shape"
   ]
  },
  {
   "cell_type": "code",
   "execution_count": 49,
   "metadata": {},
   "outputs": [],
   "source": [
    "gt_extrascenter=gt_extras[:,2]\n",
    "gt_extrascenter=np.array([list(x) for x in gt_extrascenter])"
   ]
  },
  {
   "cell_type": "code",
   "execution_count": 50,
   "metadata": {},
   "outputs": [],
   "source": [
    "extrascenter=extras[:,2]\n",
    "extrascenter=np.array([list(x) for x in extrascenter])"
   ]
  },
  {
   "cell_type": "code",
   "execution_count": 51,
   "metadata": {},
   "outputs": [],
   "source": [
    "val_extrascenter=val_extras[:,2]\n",
    "val_extrascenter=np.array([list(x) for x in val_extrascenter])"
   ]
  },
  {
   "cell_type": "code",
   "execution_count": 52,
   "metadata": {},
   "outputs": [],
   "source": [
    "gt_extrassize=gt_extras[:,6]\n",
    "gt_extrassize=np.array([list(x) for x in gt_extrassize])"
   ]
  },
  {
   "cell_type": "code",
   "execution_count": 53,
   "metadata": {},
   "outputs": [],
   "source": [
    "val_extrassize=val_extras[:,6]\n",
    "val_extrassize=np.array([list(x) for x in val_extrassize])"
   ]
  },
  {
   "cell_type": "code",
   "execution_count": 54,
   "metadata": {},
   "outputs": [],
   "source": [
    "extrassize=extras[:,6]\n",
    "extrassize=np.array([list(x) for x in extrassize])"
   ]
  },
  {
   "cell_type": "code",
   "execution_count": 55,
   "metadata": {},
   "outputs": [
    {
     "data": {
      "text/plain": [
       "(15345,)"
      ]
     },
     "execution_count": 55,
     "metadata": {},
     "output_type": "execute_result"
    }
   ],
   "source": [
    "gt_extrasheading=gt_extras[:,3]\n",
    "gt_extrasheading=np.array([x for x in gt_extrasheading])\n",
    "gt_extrasheading.shape"
   ]
  },
  {
   "cell_type": "code",
   "execution_count": 56,
   "metadata": {},
   "outputs": [
    {
     "data": {
      "text/plain": [
       "(2235,)"
      ]
     },
     "execution_count": 56,
     "metadata": {},
     "output_type": "execute_result"
    }
   ],
   "source": [
    "val_extrasheading=val_extras[:,3]\n",
    "val_extrasheading=np.array([x for x in val_extrasheading])\n",
    "val_extrasheading.shape"
   ]
  },
  {
   "cell_type": "code",
   "execution_count": 57,
   "metadata": {},
   "outputs": [
    {
     "data": {
      "text/plain": [
       "(10635,)"
      ]
     },
     "execution_count": 57,
     "metadata": {},
     "output_type": "execute_result"
    }
   ],
   "source": [
    "extrasheading=extras[:,3]\n",
    "extrasheading=np.array([x for x in extrasheading])\n",
    "extrasheading.shape"
   ]
  },
  {
   "cell_type": "code",
   "execution_count": 58,
   "metadata": {},
   "outputs": [],
   "source": [
    "gt_modified_extrasheading=[]\n",
    "for x in gt_extrasheading:\n",
    "    if x<=5:\n",
    "        gt_modified_extrasheading.append(x)\n",
    "    else:\n",
    "        gt_modified_extrasheading.append(x-6)\n",
    "gt_extrasheading=np.array(gt_modified_extrasheading)"
   ]
  },
  {
   "cell_type": "code",
   "execution_count": 59,
   "metadata": {},
   "outputs": [],
   "source": [
    "val_modified_extrasheading=[]\n",
    "for x in val_extrasheading:\n",
    "    if x<=5:\n",
    "        val_modified_extrasheading.append(x)\n",
    "    else:\n",
    "        val_modified_extrasheading.append(x-6)\n",
    "val_extrasheading=np.array(val_modified_extrasheading)"
   ]
  },
  {
   "cell_type": "code",
   "execution_count": 60,
   "metadata": {},
   "outputs": [],
   "source": [
    "modified_extrasheading=[]\n",
    "for x in extrasheading:\n",
    "    if x<=5:\n",
    "        modified_extrasheading.append(x)\n",
    "    else:\n",
    "        modified_extrasheading.append(x-6)\n",
    "extrasheading=np.array(modified_extrasheading)"
   ]
  },
  {
   "cell_type": "code",
   "execution_count": 61,
   "metadata": {},
   "outputs": [],
   "source": [
    "gt_extrasheadingl=np.zeros((gt_extrasheading.shape[0],6),dtype=np.int32)\n",
    "gt_extrasheadingl[np.arange(gt_extrasheading.shape[0]),gt_extrasheading]=1"
   ]
  },
  {
   "cell_type": "code",
   "execution_count": 62,
   "metadata": {},
   "outputs": [],
   "source": [
    "val_extrasheadingl=np.zeros((val_extrasheading.shape[0],6),dtype=np.int32)\n",
    "val_extrasheadingl[np.arange(val_extrasheading.shape[0]),val_extrasheading]=1"
   ]
  },
  {
   "cell_type": "code",
   "execution_count": 63,
   "metadata": {},
   "outputs": [],
   "source": [
    "extrasheadingl=np.zeros((extrasheading.shape[0],6),dtype=np.int32)\n",
    "extrasheadingl[np.arange(extrasheading.shape[0]),extrasheading]=1"
   ]
  },
  {
   "cell_type": "code",
   "execution_count": 64,
   "metadata": {},
   "outputs": [
    {
     "name": "stdout",
     "output_type": "stream",
     "text": [
      "(15345, 1)\n",
      "[-0.1634908487234048]\n",
      "(15345, 6)\n",
      "[-0.0 -0.0 -0.0 -0.0 -0.1634908487234048 -0.0]\n",
      "[0 0 0 0 1 0]\n"
     ]
    }
   ],
   "source": [
    "gt_extras_headingres = gt_extras[:,4]\n",
    "gt_extras_headingres = np.reshape(gt_extras_headingres,(-1,1))\n",
    "print(gt_extras_headingres.shape)\n",
    "print(gt_extras_headingres[0])\n",
    "gt_extras_headingres = gt_extrasheadingl*gt_extras_headingres\n",
    "print(gt_extras_headingres.shape)\n",
    "print(gt_extras_headingres[0])\n",
    "print(gt_extrasheadingl[0])"
   ]
  },
  {
   "cell_type": "code",
   "execution_count": 65,
   "metadata": {},
   "outputs": [
    {
     "name": "stdout",
     "output_type": "stream",
     "text": [
      "(2235, 1)\n",
      "[0.24208863784600743]\n",
      "(2235, 6)\n",
      "[0.24208863784600743 0.0 0.0 0.0 0.0 0.0]\n",
      "[1 0 0 0 0 0]\n"
     ]
    }
   ],
   "source": [
    "val_extras_headingres = val_extras[:,4]\n",
    "val_extras_headingres = np.reshape(val_extras_headingres,(-1,1))\n",
    "print(val_extras_headingres.shape)\n",
    "print(val_extras_headingres[0])\n",
    "val_extras_headingres = val_extrasheadingl*val_extras_headingres\n",
    "print(val_extras_headingres.shape)\n",
    "print(val_extras_headingres[0])\n",
    "print(val_extrasheadingl[0])"
   ]
  },
  {
   "cell_type": "code",
   "execution_count": 66,
   "metadata": {},
   "outputs": [
    {
     "name": "stdout",
     "output_type": "stream",
     "text": [
      "(10635, 1)\n",
      "[-0.1634908487234048]\n",
      "(10635, 6)\n",
      "[-0.0 -0.0 -0.0 -0.0 -0.1634908487234048 -0.0]\n",
      "[0 0 0 0 1 0]\n"
     ]
    }
   ],
   "source": [
    "extras_headingres = extras[:,4]\n",
    "extras_headingres = np.reshape(extras_headingres,(-1,1))\n",
    "print(extras_headingres.shape)\n",
    "print(extras_headingres[0])\n",
    "extras_headingres = extrasheadingl*extras_headingres\n",
    "print(extras_headingres.shape)\n",
    "print(extras_headingres[0])\n",
    "print(extrasheadingl[0])"
   ]
  },
  {
   "cell_type": "code",
   "execution_count": 67,
   "metadata": {},
   "outputs": [],
   "source": [
    "extras_headingres=np.append(extras_headingres,gt_extras_headingres,axis=0)\n",
    "extrasheadingl=np.append(extrasheadingl,gt_extrasheadingl,axis=0)\n",
    "extrassize=np.append(extrassize,gt_extrassize,axis=0)\n",
    "extrascenter=np.append(extrascenter,gt_extrascenter,axis=0)\n",
    "class_windows=np.append(class_windows,gt_class_windows[:,:,:3],axis=0)"
   ]
  },
  {
   "cell_type": "code",
   "execution_count": 68,
   "metadata": {},
   "outputs": [
    {
     "data": {
      "text/plain": [
       "(25980, 512, 3)"
      ]
     },
     "execution_count": 68,
     "metadata": {},
     "output_type": "execute_result"
    }
   ],
   "source": [
    "extras_headingres.shape\n",
    "extrasheadingl.shape\n",
    "extrassize.shape\n",
    "extrascenter.shape\n",
    "class_windows.shape"
   ]
  },
  {
   "cell_type": "code",
   "execution_count": 69,
   "metadata": {},
   "outputs": [
    {
     "name": "stdout",
     "output_type": "stream",
     "text": [
      "<class 'tensorflow.python.framework.ops.Tensor'>\n",
      "Tensor(\"center:0\", shape=(?, 3), dtype=float32, device=/device:GPU:0)\n",
      "Tensor(\"size:0\", shape=(?, 3), dtype=float32, device=/device:GPU:0)\n",
      "Tensor(\"heading:0\", shape=(?, 6), dtype=int32, device=/device:GPU:0)\n"
     ]
    }
   ],
   "source": [
    "print(type(sel_win))\n",
    "print(center_reglabel)\n",
    "print(size_reglabel)\n",
    "print(heading_class_label)\n"
   ]
  },
  {
   "cell_type": "code",
   "execution_count": 70,
   "metadata": {},
   "outputs": [],
   "source": [
    "# print(sel_win.get_shape())\n",
    "# print(class_windows[i:i+batchsize,:,:3].shape)\n",
    "# print(center_reglabel.get_shape())\n",
    "# print(residual_regress_xyzlabels.shape)\n",
    "# print(size_reglabel.get_shape())\n",
    "# print(residual_regress_lbhlabels.shape)\n",
    "# print(heading_class_label.get_shape())\n",
    "# print(heading_class_l.shape)\n",
    "# print(is_training.get_shape())"
   ]
  },
  {
   "cell_type": "code",
   "execution_count": 71,
   "metadata": {},
   "outputs": [],
   "source": [
    "# print(val_class_windows[it:it+batchsize,:,:].shape)\n",
    "# print(val_extrascenter[it:it+batchsize,:].shape)\n",
    "# print(val_extrassize[it:it+batchsize,:].shape)\n",
    "# print(val_extrasheadingl[it:it+batchsize,:].shape)\n",
    "# print(val_extras_headingres[it:it+batchsize,:].shape)"
   ]
  },
  {
   "cell_type": "code",
   "execution_count": 72,
   "metadata": {},
   "outputs": [],
   "source": [
    "# # import sys\n",
    "# for i in range(1000):\n",
    "#     sys.stdout.write(\"Download progress: %d/%d  \\r\" % (i,100) )\n",
    "#     sys.stdout.flush()\n",
    "\n",
    "# print('outside')\n"
   ]
  },
  {
   "cell_type": "code",
   "execution_count": 73,
   "metadata": {},
   "outputs": [
    {
     "data": {
      "text/plain": [
       "25980"
      ]
     },
     "execution_count": 73,
     "metadata": {},
     "output_type": "execute_result"
    }
   ],
   "source": [
    "extrasheadingl.shape[0]"
   ]
  },
  {
   "cell_type": "code",
   "execution_count": 74,
   "metadata": {},
   "outputs": [],
   "source": [
    "# from matplotlib import pyplot as plt\n",
    "# plt.plot([len(list(filter(lambda x: x>0.5, lx)))/len(lx) for lx in train_metrics['iou']])"
   ]
  },
  {
   "cell_type": "code",
   "execution_count": 81,
   "metadata": {
    "scrolled": true
   },
   "outputs": [
    {
     "name": "stdout",
     "output_type": "stream",
     "text": [
      "**************************************************************************************\n",
      "Training progress: Epoch: 0, minibatch: 5196/5196 , batchsize:5  \n",
      "%%%%%%%%%%%%%%%%%%%%%%%%%%%%%%%%%%%%%%%%%%%%%%%%%\n",
      "epoch=  0 pedc=  5196\n",
      "average loss=  5.688661\n",
      "stage1_center_loss=  0.29536137\n",
      "center_loss=  0.2840437\n",
      "size_loss=  0.27727103\n",
      "heading_loss=  1.7666886\n",
      "heading regression loss=  0.39096203\n",
      "heading accuracy=  0.238417\n",
      "corner_dist=  0.34185126\n",
      "iou 0.3=  0.8891454965357968\n",
      "iou 0.5=  0.6072363356428021\n",
      "&&&&&&&&&&&&&&&&&&&&&&&&&&&&&&&&&& TEST RESULTS&&&&&&&&&&&&&&&&&&&&&&&&&&\n",
      "%%%%%%%%%%%%%%%%%%%%%%%%%%%%%%%%%%%%%%%%%%%%%%%%%\n",
      "epoch=  0 pedc=  220\n",
      "average loss=  7.4900413\n",
      "stage1_center_loss=  0.50353664\n",
      "center_loss=  0.5069537\n",
      "size_loss=  0.25393865\n",
      "heading_loss=  1.7193836\n",
      "heading regression loss=  0.33621454\n",
      "heading accuracy=  0.2563639\n",
      "corner_dist=  0.69360834\n",
      "iou 0.3=  0.8527272727272728\n",
      "iou 0.4=  0.7627272727272727\n",
      "iou 0.45=  0.6790909090909091\n",
      "iou 0.47=  0.6190909090909091\n",
      "iou 0.5=  0.5272727272727272\n",
      "**************************************************************************************\n",
      "Training progress: Epoch: 1, minibatch: 5196/5196 , batchsize:5  \n",
      "%%%%%%%%%%%%%%%%%%%%%%%%%%%%%%%%%%%%%%%%%%%%%%%%%\n",
      "epoch=  1 pedc=  5196\n",
      "average loss=  5.130578\n",
      "stage1_center_loss=  0.24996072\n",
      "center_loss=  0.2470748\n",
      "size_loss=  0.26477045\n",
      "heading_loss=  1.6521096\n",
      "heading regression loss=  0.31188652\n",
      "heading accuracy=  0.30731538\n",
      "corner_dist=  0.30819649\n",
      "iou 0.3=  0.9299461123941494\n",
      "iou 0.5=  0.6857197844495766\n",
      "&&&&&&&&&&&&&&&&&&&&&&&&&&&&&&&&&& TEST RESULTS&&&&&&&&&&&&&&&&&&&&&&&&&&\n",
      "%%%%%%%%%%%%%%%%%%%%%%%%%%%%%%%%%%%%%%%%%%%%%%%%%\n",
      "epoch=  1 pedc=  220\n",
      "average loss=  7.2282534\n",
      "stage1_center_loss=  0.48761627\n",
      "center_loss=  0.49050763\n",
      "size_loss=  0.25997704\n",
      "heading_loss=  1.6443003\n",
      "heading regression loss=  0.33166876\n",
      "heading accuracy=  0.32363653\n",
      "corner_dist=  0.6390023\n",
      "iou 0.3=  0.8581818181818182\n",
      "iou 0.4=  0.7927272727272727\n",
      "iou 0.45=  0.7190909090909091\n",
      "iou 0.47=  0.6736363636363636\n",
      "iou 0.5=  0.5809090909090909\n",
      "**************************************************************************************\n",
      "Training progress: Epoch: 2, minibatch: 5196/5196 , batchsize:5  \n",
      "%%%%%%%%%%%%%%%%%%%%%%%%%%%%%%%%%%%%%%%%%%%%%%%%%\n",
      "epoch=  2 pedc=  5196\n",
      "average loss=  5.005425\n",
      "stage1_center_loss=  0.2433935\n",
      "center_loss=  0.24396487\n",
      "size_loss=  0.26638293\n",
      "heading_loss=  1.5588048\n",
      "heading regression loss=  0.30708945\n",
      "heading accuracy=  0.36381963\n",
      "corner_dist=  0.3059618\n",
      "iou 0.3=  0.9310623556581986\n",
      "iou 0.5=  0.6943033102386451\n",
      "&&&&&&&&&&&&&&&&&&&&&&&&&&&&&&&&&& TEST RESULTS&&&&&&&&&&&&&&&&&&&&&&&&&&\n",
      "%%%%%%%%%%%%%%%%%%%%%%%%%%%%%%%%%%%%%%%%%%%%%%%%%\n",
      "epoch=  2 pedc=  220\n",
      "average loss=  7.123091\n",
      "stage1_center_loss=  0.4864253\n",
      "center_loss=  0.48569873\n",
      "size_loss=  0.25357538\n",
      "heading_loss=  1.5942191\n",
      "heading regression loss=  0.32601425\n",
      "heading accuracy=  0.33090916\n",
      "corner_dist=  0.636092\n",
      "iou 0.3=  0.8636363636363636\n",
      "iou 0.4=  0.7981818181818182\n",
      "iou 0.45=  0.7190909090909091\n",
      "iou 0.47=  0.69\n",
      "iou 0.5=  0.6127272727272727\n",
      "**************************************************************************************\n",
      "Training progress: Epoch: 3, minibatch: 5196/5196 , batchsize:5  \n",
      "%%%%%%%%%%%%%%%%%%%%%%%%%%%%%%%%%%%%%%%%%%%%%%%%%\n",
      "epoch=  3 pedc=  5196\n",
      "average loss=  4.9321423\n",
      "stage1_center_loss=  0.24183221\n",
      "center_loss=  0.2426868\n",
      "size_loss=  0.26744637\n",
      "heading_loss=  1.4950372\n",
      "heading regression loss=  0.30340055\n",
      "heading accuracy=  0.39553595\n",
      "corner_dist=  0.30518392\n",
      "iou 0.3=  0.9309083910700539\n",
      "iou 0.5=  0.6984603541185528\n",
      "&&&&&&&&&&&&&&&&&&&&&&&&&&&&&&&&&& TEST RESULTS&&&&&&&&&&&&&&&&&&&&&&&&&&\n",
      "%%%%%%%%%%%%%%%%%%%%%%%%%%%%%%%%%%%%%%%%%%%%%%%%%\n",
      "epoch=  3 pedc=  220\n",
      "average loss=  7.080926\n",
      "stage1_center_loss=  0.48571786\n",
      "center_loss=  0.4842517\n",
      "size_loss=  0.2531029\n",
      "heading_loss=  1.5701759\n",
      "heading regression loss=  0.32390314\n",
      "heading accuracy=  0.36909088\n",
      "corner_dist=  0.632264\n",
      "iou 0.3=  0.8627272727272727\n",
      "iou 0.4=  0.7963636363636364\n",
      "iou 0.45=  0.73\n",
      "iou 0.47=  0.6972727272727273\n",
      "iou 0.5=  0.6227272727272727\n",
      "**************************************************************************************\n",
      "Training progress: Epoch: 4, minibatch: 5196/5196 , batchsize:5  \n",
      "%%%%%%%%%%%%%%%%%%%%%%%%%%%%%%%%%%%%%%%%%%%%%%%%%\n",
      "epoch=  4 pedc=  5196\n",
      "average loss=  4.8891444\n",
      "stage1_center_loss=  0.24107888\n",
      "center_loss=  0.2417525\n",
      "size_loss=  0.26791832\n",
      "heading_loss=  1.458042\n",
      "heading regression loss=  0.3017486\n",
      "heading accuracy=  0.41312563\n",
      "corner_dist=  0.3045895\n",
      "iou 0.3=  0.9306004618937644\n",
      "iou 0.5=  0.6977290223248653\n",
      "&&&&&&&&&&&&&&&&&&&&&&&&&&&&&&&&&& TEST RESULTS&&&&&&&&&&&&&&&&&&&&&&&&&&\n",
      "%%%%%%%%%%%%%%%%%%%%%%%%%%%%%%%%%%%%%%%%%%%%%%%%%\n",
      "epoch=  4 pedc=  220\n",
      "average loss=  7.09465\n",
      "stage1_center_loss=  0.48523274\n",
      "center_loss=  0.48357376\n",
      "size_loss=  0.25145158\n",
      "heading_loss=  1.5906242\n",
      "heading regression loss=  0.32298902\n",
      "heading accuracy=  0.36000004\n",
      "corner_dist=  0.6344058\n",
      "iou 0.3=  0.8627272727272727\n",
      "iou 0.4=  0.7936363636363636\n",
      "iou 0.45=  0.7363636363636363\n",
      "iou 0.47=  0.6972727272727273\n",
      "iou 0.5=  0.6327272727272727\n",
      "**************************************************************************************\n",
      "Training progress: Epoch: 5, minibatch: 5196/5196 , batchsize:5  \n",
      "%%%%%%%%%%%%%%%%%%%%%%%%%%%%%%%%%%%%%%%%%%%%%%%%%\n",
      "epoch=  5 pedc=  5196\n",
      "average loss=  4.8559976\n",
      "stage1_center_loss=  0.24083067\n",
      "center_loss=  0.24105334\n",
      "size_loss=  0.26777333\n",
      "heading_loss=  1.4296376\n",
      "heading regression loss=  0.3015341\n",
      "heading accuracy=  0.42809847\n",
      "corner_dist=  0.30404058\n",
      "iou 0.3=  0.9309083910700539\n",
      "iou 0.5=  0.7010777521170131\n",
      "&&&&&&&&&&&&&&&&&&&&&&&&&&&&&&&&&& TEST RESULTS&&&&&&&&&&&&&&&&&&&&&&&&&&\n",
      "%%%%%%%%%%%%%%%%%%%%%%%%%%%%%%%%%%%%%%%%%%%%%%%%%\n",
      "epoch=  5 pedc=  220\n",
      "average loss=  7.088602\n",
      "stage1_center_loss=  0.4878479\n",
      "center_loss=  0.48628634\n",
      "size_loss=  0.2548502\n",
      "heading_loss=  1.5633928\n",
      "heading regression loss=  0.3217716\n",
      "heading accuracy=  0.36363652\n",
      "corner_dist=  0.6308173\n",
      "iou 0.3=  0.86\n",
      "iou 0.4=  0.79\n",
      "iou 0.45=  0.7263636363636363\n",
      "iou 0.47=  0.6863636363636364\n",
      "iou 0.5=  0.6090909090909091\n",
      "**************************************************************************************\n",
      "Training progress: Epoch: 6, minibatch: 5196/5196 , batchsize:5  \n",
      "%%%%%%%%%%%%%%%%%%%%%%%%%%%%%%%%%%%%%%%%%%%%%%%%%\n",
      "epoch=  6 pedc=  5196\n",
      "average loss=  4.8252687\n",
      "stage1_center_loss=  0.24019533\n",
      "center_loss=  0.2406232\n",
      "size_loss=  0.2676776\n",
      "heading_loss=  1.4041278\n",
      "heading regression loss=  0.30056003\n",
      "heading accuracy=  0.44145426\n",
      "corner_dist=  0.30370712\n",
      "iou 0.3=  0.9309468822170901\n",
      "iou 0.5=  0.7012317167051578\n",
      "&&&&&&&&&&&&&&&&&&&&&&&&&&&&&&&&&& TEST RESULTS&&&&&&&&&&&&&&&&&&&&&&&&&&\n",
      "%%%%%%%%%%%%%%%%%%%%%%%%%%%%%%%%%%%%%%%%%%%%%%%%%\n",
      "epoch=  6 pedc=  220\n",
      "average loss=  7.05033\n",
      "stage1_center_loss=  0.4853238\n",
      "center_loss=  0.48250207\n",
      "size_loss=  0.25252143\n",
      "heading_loss=  1.5657399\n",
      "heading regression loss=  0.3215132\n",
      "heading accuracy=  0.37999997\n",
      "corner_dist=  0.62475705\n",
      "iou 0.3=  0.8618181818181818\n",
      "iou 0.4=  0.7936363636363636\n",
      "iou 0.45=  0.740909090909091\n",
      "iou 0.47=  0.7081818181818181\n",
      "iou 0.5=  0.6345454545454545\n",
      "**************************************************************************************\n",
      "Training progress: Epoch: 7, minibatch: 5196/5196 , batchsize:5  \n",
      "%%%%%%%%%%%%%%%%%%%%%%%%%%%%%%%%%%%%%%%%%%%%%%%%%\n",
      "epoch=  7 pedc=  5196\n",
      "average loss=  4.7959695\n",
      "stage1_center_loss=  0.2398854\n",
      "center_loss=  0.24025877\n",
      "size_loss=  0.26755798\n",
      "heading_loss=  1.3785619\n",
      "heading regression loss=  0.29996154\n",
      "heading accuracy=  0.44926757\n",
      "corner_dist=  0.30338806\n",
      "iou 0.3=  0.9299846035411855\n",
      "iou 0.5=  0.6999230177059277\n",
      "&&&&&&&&&&&&&&&&&&&&&&&&&&&&&&&&&& TEST RESULTS&&&&&&&&&&&&&&&&&&&&&&&&&&\n",
      "%%%%%%%%%%%%%%%%%%%%%%%%%%%%%%%%%%%%%%%%%%%%%%%%%\n",
      "epoch=  7 pedc=  220\n",
      "average loss=  7.1145234\n",
      "stage1_center_loss=  0.4863439\n",
      "center_loss=  0.4843659\n",
      "size_loss=  0.25330642\n",
      "heading_loss=  1.6056933\n",
      "heading regression loss=  0.3231427\n",
      "heading accuracy=  0.3654546\n",
      "corner_dist=  0.63016456\n",
      "iou 0.3=  0.86\n",
      "iou 0.4=  0.7936363636363636\n",
      "iou 0.45=  0.7327272727272728\n",
      "iou 0.47=  0.7\n",
      "iou 0.5=  0.6181818181818182\n",
      "**************************************************************************************\n",
      "Training progress: Epoch: 8, minibatch: 5196/5196 , batchsize:5  \n",
      "%%%%%%%%%%%%%%%%%%%%%%%%%%%%%%%%%%%%%%%%%%%%%%%%%\n",
      "epoch=  8 pedc=  5196\n",
      "average loss=  4.7784123\n",
      "stage1_center_loss=  0.23950875\n",
      "center_loss=  0.23985195\n",
      "size_loss=  0.26744536\n",
      "heading_loss=  1.3642359\n",
      "heading regression loss=  0.30010548\n",
      "heading accuracy=  0.45619544\n",
      "corner_dist=  0.30310473\n",
      "iou 0.3=  0.930100076982294\n",
      "iou 0.5=  0.7030408006158584\n"
     ]
    },
    {
     "name": "stdout",
     "output_type": "stream",
     "text": [
      "&&&&&&&&&&&&&&&&&&&&&&&&&&&&&&&&&& TEST RESULTS&&&&&&&&&&&&&&&&&&&&&&&&&&\n",
      "%%%%%%%%%%%%%%%%%%%%%%%%%%%%%%%%%%%%%%%%%%%%%%%%%\n",
      "epoch=  8 pedc=  220\n",
      "average loss=  7.0185466\n",
      "stage1_center_loss=  0.48115277\n",
      "center_loss=  0.47974804\n",
      "size_loss=  0.25427604\n",
      "heading_loss=  1.5602931\n",
      "heading regression loss=  0.32049862\n",
      "heading accuracy=  0.36909094\n",
      "corner_dist=  0.61897284\n",
      "iou 0.3=  0.8618181818181818\n",
      "iou 0.4=  0.8\n",
      "iou 0.45=  0.7372727272727273\n",
      "iou 0.47=  0.7045454545454546\n",
      "iou 0.5=  0.6354545454545455\n",
      "**************************************************************************************\n",
      "Training progress: Epoch: 9, minibatch: 5196/5196 , batchsize:5  \n",
      "%%%%%%%%%%%%%%%%%%%%%%%%%%%%%%%%%%%%%%%%%%%%%%%%%\n",
      "epoch=  9 pedc=  5196\n",
      "average loss=  4.7543383\n",
      "stage1_center_loss=  0.23929204\n",
      "center_loss=  0.23956811\n",
      "size_loss=  0.2674809\n",
      "heading_loss=  1.3420519\n",
      "heading regression loss=  0.29996997\n",
      "heading accuracy=  0.46801245\n",
      "corner_dist=  0.30290672\n",
      "iou 0.3=  0.9299846035411855\n",
      "iou 0.5=  0.7048883756735951\n",
      "&&&&&&&&&&&&&&&&&&&&&&&&&&&&&&&&&& TEST RESULTS&&&&&&&&&&&&&&&&&&&&&&&&&&\n",
      "%%%%%%%%%%%%%%%%%%%%%%%%%%%%%%%%%%%%%%%%%%%%%%%%%\n",
      "epoch=  9 pedc=  220\n",
      "average loss=  7.058663\n",
      "stage1_center_loss=  0.48077655\n",
      "center_loss=  0.4791452\n",
      "size_loss=  0.25403547\n",
      "heading_loss=  1.586894\n",
      "heading regression loss=  0.3210255\n",
      "heading accuracy=  0.3481819\n",
      "corner_dist=  0.62741834\n",
      "iou 0.3=  0.86\n",
      "iou 0.4=  0.7990909090909091\n",
      "iou 0.45=  0.740909090909091\n",
      "iou 0.47=  0.7063636363636364\n",
      "iou 0.5=  0.6336363636363637\n",
      "**************************************************************************************\n",
      "Training progress: Epoch: 10, minibatch: 5196/5196 , batchsize:5  \n",
      "%%%%%%%%%%%%%%%%%%%%%%%%%%%%%%%%%%%%%%%%%%%%%%%%%\n",
      "epoch=  10 pedc=  5196\n",
      "average loss=  4.741483\n",
      "stage1_center_loss=  0.23916556\n",
      "center_loss=  0.2391859\n",
      "size_loss=  0.2672224\n",
      "heading_loss=  1.3329717\n",
      "heading regression loss=  0.2994369\n",
      "heading accuracy=  0.47382453\n",
      "corner_dist=  0.30256602\n",
      "iou 0.3=  0.9300230946882218\n",
      "iou 0.5=  0.7060046189376443\n",
      "&&&&&&&&&&&&&&&&&&&&&&&&&&&&&&&&&& TEST RESULTS&&&&&&&&&&&&&&&&&&&&&&&&&&\n",
      "%%%%%%%%%%%%%%%%%%%%%%%%%%%%%%%%%%%%%%%%%%%%%%%%%\n",
      "epoch=  10 pedc=  220\n",
      "average loss=  7.0293202\n",
      "stage1_center_loss=  0.4836217\n",
      "center_loss=  0.48233843\n",
      "size_loss=  0.25353384\n",
      "heading_loss=  1.5598938\n",
      "heading regression loss=  0.32001033\n",
      "heading accuracy=  0.37545455\n",
      "corner_dist=  0.618701\n",
      "iou 0.3=  0.86\n",
      "iou 0.4=  0.8\n",
      "iou 0.45=  0.7390909090909091\n",
      "iou 0.47=  0.7090909090909091\n",
      "iou 0.5=  0.6409090909090909\n",
      "**************************************************************************************\n",
      "Training progress: Epoch: 11, minibatch: 5196/5196 , batchsize:5  \n",
      "%%%%%%%%%%%%%%%%%%%%%%%%%%%%%%%%%%%%%%%%%%%%%%%%%\n",
      "epoch=  11 pedc=  5196\n",
      "average loss=  4.7222114\n",
      "stage1_center_loss=  0.2388872\n",
      "center_loss=  0.23891732\n",
      "size_loss=  0.26703542\n",
      "heading_loss=  1.3169918\n",
      "heading regression loss=  0.29913658\n",
      "heading accuracy=  0.48202288\n",
      "corner_dist=  0.30225953\n",
      "iou 0.3=  0.930100076982294\n",
      "iou 0.5=  0.7060816012317167\n",
      "&&&&&&&&&&&&&&&&&&&&&&&&&&&&&&&&&& TEST RESULTS&&&&&&&&&&&&&&&&&&&&&&&&&&\n",
      "%%%%%%%%%%%%%%%%%%%%%%%%%%%%%%%%%%%%%%%%%%%%%%%%%\n",
      "epoch=  11 pedc=  220\n",
      "average loss=  7.0386353\n",
      "stage1_center_loss=  0.48332927\n",
      "center_loss=  0.48116955\n",
      "size_loss=  0.25402355\n",
      "heading_loss=  1.5674487\n",
      "heading regression loss=  0.31986403\n",
      "heading accuracy=  0.37363628\n",
      "corner_dist=  0.62086624\n",
      "iou 0.3=  0.86\n",
      "iou 0.4=  0.7990909090909091\n",
      "iou 0.45=  0.7381818181818182\n",
      "iou 0.47=  0.7118181818181818\n",
      "iou 0.5=  0.6409090909090909\n",
      "**************************************************************************************\n",
      "Training progress: Epoch: 12, minibatch: 5196/5196 , batchsize:5  \n",
      "%%%%%%%%%%%%%%%%%%%%%%%%%%%%%%%%%%%%%%%%%%%%%%%%%\n",
      "epoch=  12 pedc=  5196\n",
      "average loss=  4.715549\n",
      "stage1_center_loss=  0.23902439\n",
      "center_loss=  0.23920174\n",
      "size_loss=  0.26725397\n",
      "heading_loss=  1.3074635\n",
      "heading regression loss=  0.29947335\n",
      "heading accuracy=  0.48571786\n",
      "corner_dist=  0.30245796\n",
      "iou 0.3=  0.9298306389530409\n",
      "iou 0.5=  0.7045419553502694\n",
      "&&&&&&&&&&&&&&&&&&&&&&&&&&&&&&&&&& TEST RESULTS&&&&&&&&&&&&&&&&&&&&&&&&&&\n",
      "%%%%%%%%%%%%%%%%%%%%%%%%%%%%%%%%%%%%%%%%%%%%%%%%%\n",
      "epoch=  12 pedc=  220\n",
      "average loss=  7.0014944\n",
      "stage1_center_loss=  0.47915077\n",
      "center_loss=  0.47783235\n",
      "size_loss=  0.25434563\n",
      "heading_loss=  1.5632753\n",
      "heading regression loss=  0.32097408\n",
      "heading accuracy=  0.37999982\n",
      "corner_dist=  0.6144563\n",
      "iou 0.3=  0.8590909090909091\n",
      "iou 0.4=  0.8045454545454546\n",
      "iou 0.45=  0.7427272727272727\n",
      "iou 0.47=  0.7090909090909091\n",
      "iou 0.5=  0.6463636363636364\n",
      "**************************************************************************************\n",
      "Training progress: Epoch: 13, minibatch: 5013/5196 , batchsize:5  \r"
     ]
    },
    {
     "ename": "KeyboardInterrupt",
     "evalue": "",
     "output_type": "error",
     "traceback": [
      "\u001b[0;31m\u001b[0m",
      "\u001b[0;31mKeyboardInterrupt\u001b[0mTraceback (most recent call last)",
      "\u001b[0;32m<ipython-input-81-3524fcff911f>\u001b[0m in \u001b[0;36m<module>\u001b[0;34m()\u001b[0m\n\u001b[1;32m     22\u001b[0m \u001b[0;34m\u001b[0m\u001b[0m\n\u001b[1;32m     23\u001b[0m \u001b[0;34m\u001b[0m\u001b[0m\n\u001b[0;32m---> 24\u001b[0;31m             \u001b[0mout_l\u001b[0m \u001b[0;34m=\u001b[0m\u001b[0msess\u001b[0m\u001b[0;34m.\u001b[0m\u001b[0mrun\u001b[0m\u001b[0;34m(\u001b[0m\u001b[0;34m[\u001b[0m\u001b[0mtrain_op\u001b[0m\u001b[0;34m,\u001b[0m\u001b[0mpred_corners\u001b[0m\u001b[0;34m,\u001b[0m\u001b[0mcorners_labels\u001b[0m\u001b[0;34m,\u001b[0m\u001b[0mloss\u001b[0m\u001b[0;34m,\u001b[0m \u001b[0mstage1_center_loss\u001b[0m\u001b[0;34m,\u001b[0m \u001b[0mcenter_loss\u001b[0m\u001b[0;34m,\u001b[0m \u001b[0msize_loss\u001b[0m\u001b[0;34m,\u001b[0m                             \u001b[0mheadingclass_loss\u001b[0m\u001b[0;34m,\u001b[0m\u001b[0mheadingreg_loss\u001b[0m\u001b[0;34m,\u001b[0m\u001b[0mheadingclassaccuracy\u001b[0m \u001b[0;34m,\u001b[0m\u001b[0mcorners_dist\u001b[0m\u001b[0;34m]\u001b[0m\u001b[0;34m,\u001b[0m                            \u001b[0mfeed_dict\u001b[0m\u001b[0;34m=\u001b[0m\u001b[0;34m{\u001b[0m\u001b[0mlr\u001b[0m\u001b[0;34m:\u001b[0m \u001b[0;36m1e-2\u001b[0m\u001b[0;34m/\u001b[0m\u001b[0;34m(\u001b[0m\u001b[0mepoch\u001b[0m\u001b[0;34m+\u001b[0m\u001b[0;36m1\u001b[0m\u001b[0;34m)\u001b[0m\u001b[0;34m,\u001b[0m\u001b[0msel_win\u001b[0m\u001b[0;34m:\u001b[0m\u001b[0mclass_windows\u001b[0m\u001b[0;34m[\u001b[0m\u001b[0mi\u001b[0m\u001b[0;34m:\u001b[0m\u001b[0mi\u001b[0m\u001b[0;34m+\u001b[0m\u001b[0mbatchsize\u001b[0m\u001b[0;34m,\u001b[0m\u001b[0;34m:\u001b[0m\u001b[0;34m,\u001b[0m\u001b[0;34m:\u001b[0m\u001b[0;36m3\u001b[0m\u001b[0;34m]\u001b[0m\u001b[0;34m,\u001b[0m                                       \u001b[0mcenter_reglabel\u001b[0m\u001b[0;34m:\u001b[0m\u001b[0mextrascenter\u001b[0m\u001b[0;34m[\u001b[0m\u001b[0mi\u001b[0m\u001b[0;34m:\u001b[0m\u001b[0mi\u001b[0m\u001b[0;34m+\u001b[0m\u001b[0mbatchsize\u001b[0m\u001b[0;34m,\u001b[0m\u001b[0;34m:\u001b[0m\u001b[0;34m]\u001b[0m\u001b[0;34m,\u001b[0m                                                            \u001b[0msize_reglabel\u001b[0m\u001b[0;34m:\u001b[0m\u001b[0mextrassize\u001b[0m\u001b[0;34m[\u001b[0m\u001b[0mi\u001b[0m\u001b[0;34m:\u001b[0m\u001b[0mi\u001b[0m\u001b[0;34m+\u001b[0m\u001b[0mbatchsize\u001b[0m\u001b[0;34m,\u001b[0m\u001b[0;34m:\u001b[0m\u001b[0;34m]\u001b[0m\u001b[0;34m,\u001b[0m                                                            \u001b[0mheading_class_label\u001b[0m\u001b[0;34m:\u001b[0m\u001b[0mextrasheadingl\u001b[0m\u001b[0;34m[\u001b[0m\u001b[0mi\u001b[0m\u001b[0;34m:\u001b[0m\u001b[0mi\u001b[0m\u001b[0;34m+\u001b[0m\u001b[0mbatchsize\u001b[0m\u001b[0;34m,\u001b[0m\u001b[0;34m:\u001b[0m\u001b[0;34m]\u001b[0m\u001b[0;34m,\u001b[0m                                                            \u001b[0mis_training\u001b[0m\u001b[0;34m:\u001b[0m \u001b[0;32mTrue\u001b[0m\u001b[0;34m,\u001b[0m\u001b[0mrunfortest\u001b[0m\u001b[0;34m:\u001b[0m\u001b[0;32mFalse\u001b[0m\u001b[0;34m,\u001b[0m \u001b[0mheading_reglabel\u001b[0m\u001b[0;34m:\u001b[0m\u001b[0mextras_headingres\u001b[0m\u001b[0;34m[\u001b[0m\u001b[0mi\u001b[0m\u001b[0;34m:\u001b[0m\u001b[0mi\u001b[0m\u001b[0;34m+\u001b[0m\u001b[0mbatchsize\u001b[0m\u001b[0;34m,\u001b[0m\u001b[0;34m:\u001b[0m\u001b[0;34m]\u001b[0m\u001b[0;34m}\u001b[0m\u001b[0;34m)\u001b[0m\u001b[0;34m\u001b[0m\u001b[0m\n\u001b[0m\u001b[1;32m     25\u001b[0m             \u001b[0mpred_c\u001b[0m\u001b[0;34m=\u001b[0m\u001b[0mout_l\u001b[0m\u001b[0;34m[\u001b[0m\u001b[0;36m1\u001b[0m\u001b[0;34m]\u001b[0m\u001b[0;34m\u001b[0m\u001b[0m\n\u001b[1;32m     26\u001b[0m             \u001b[0mlabel_c\u001b[0m\u001b[0;34m=\u001b[0m\u001b[0mout_l\u001b[0m\u001b[0;34m[\u001b[0m\u001b[0;36m2\u001b[0m\u001b[0;34m]\u001b[0m\u001b[0;34m\u001b[0m\u001b[0m\n",
      "\u001b[0;32m/opt/conda/lib/python3.6/site-packages/tensorflow/python/client/session.py\u001b[0m in \u001b[0;36mrun\u001b[0;34m(self, fetches, feed_dict, options, run_metadata)\u001b[0m\n\u001b[1;32m    887\u001b[0m     \u001b[0;32mtry\u001b[0m\u001b[0;34m:\u001b[0m\u001b[0;34m\u001b[0m\u001b[0m\n\u001b[1;32m    888\u001b[0m       result = self._run(None, fetches, feed_dict, options_ptr,\n\u001b[0;32m--> 889\u001b[0;31m                          run_metadata_ptr)\n\u001b[0m\u001b[1;32m    890\u001b[0m       \u001b[0;32mif\u001b[0m \u001b[0mrun_metadata\u001b[0m\u001b[0;34m:\u001b[0m\u001b[0;34m\u001b[0m\u001b[0m\n\u001b[1;32m    891\u001b[0m         \u001b[0mproto_data\u001b[0m \u001b[0;34m=\u001b[0m \u001b[0mtf_session\u001b[0m\u001b[0;34m.\u001b[0m\u001b[0mTF_GetBuffer\u001b[0m\u001b[0;34m(\u001b[0m\u001b[0mrun_metadata_ptr\u001b[0m\u001b[0;34m)\u001b[0m\u001b[0;34m\u001b[0m\u001b[0m\n",
      "\u001b[0;32m/opt/conda/lib/python3.6/site-packages/tensorflow/python/client/session.py\u001b[0m in \u001b[0;36m_run\u001b[0;34m(self, handle, fetches, feed_dict, options, run_metadata)\u001b[0m\n\u001b[1;32m   1118\u001b[0m     \u001b[0;32mif\u001b[0m \u001b[0mfinal_fetches\u001b[0m \u001b[0;32mor\u001b[0m \u001b[0mfinal_targets\u001b[0m \u001b[0;32mor\u001b[0m \u001b[0;34m(\u001b[0m\u001b[0mhandle\u001b[0m \u001b[0;32mand\u001b[0m \u001b[0mfeed_dict_tensor\u001b[0m\u001b[0;34m)\u001b[0m\u001b[0;34m:\u001b[0m\u001b[0;34m\u001b[0m\u001b[0m\n\u001b[1;32m   1119\u001b[0m       results = self._do_run(handle, final_targets, final_fetches,\n\u001b[0;32m-> 1120\u001b[0;31m                              feed_dict_tensor, options, run_metadata)\n\u001b[0m\u001b[1;32m   1121\u001b[0m     \u001b[0;32melse\u001b[0m\u001b[0;34m:\u001b[0m\u001b[0;34m\u001b[0m\u001b[0m\n\u001b[1;32m   1122\u001b[0m       \u001b[0mresults\u001b[0m \u001b[0;34m=\u001b[0m \u001b[0;34m[\u001b[0m\u001b[0;34m]\u001b[0m\u001b[0;34m\u001b[0m\u001b[0m\n",
      "\u001b[0;32m/opt/conda/lib/python3.6/site-packages/tensorflow/python/client/session.py\u001b[0m in \u001b[0;36m_do_run\u001b[0;34m(self, handle, target_list, fetch_list, feed_dict, options, run_metadata)\u001b[0m\n\u001b[1;32m   1315\u001b[0m     \u001b[0;32mif\u001b[0m \u001b[0mhandle\u001b[0m \u001b[0;32mis\u001b[0m \u001b[0;32mNone\u001b[0m\u001b[0;34m:\u001b[0m\u001b[0;34m\u001b[0m\u001b[0m\n\u001b[1;32m   1316\u001b[0m       return self._do_call(_run_fn, self._session, feeds, fetches, targets,\n\u001b[0;32m-> 1317\u001b[0;31m                            options, run_metadata)\n\u001b[0m\u001b[1;32m   1318\u001b[0m     \u001b[0;32melse\u001b[0m\u001b[0;34m:\u001b[0m\u001b[0;34m\u001b[0m\u001b[0m\n\u001b[1;32m   1319\u001b[0m       \u001b[0;32mreturn\u001b[0m \u001b[0mself\u001b[0m\u001b[0;34m.\u001b[0m\u001b[0m_do_call\u001b[0m\u001b[0;34m(\u001b[0m\u001b[0m_prun_fn\u001b[0m\u001b[0;34m,\u001b[0m \u001b[0mself\u001b[0m\u001b[0;34m.\u001b[0m\u001b[0m_session\u001b[0m\u001b[0;34m,\u001b[0m \u001b[0mhandle\u001b[0m\u001b[0;34m,\u001b[0m \u001b[0mfeeds\u001b[0m\u001b[0;34m,\u001b[0m \u001b[0mfetches\u001b[0m\u001b[0;34m)\u001b[0m\u001b[0;34m\u001b[0m\u001b[0m\n",
      "\u001b[0;32m/opt/conda/lib/python3.6/site-packages/tensorflow/python/client/session.py\u001b[0m in \u001b[0;36m_do_call\u001b[0;34m(self, fn, *args)\u001b[0m\n\u001b[1;32m   1321\u001b[0m   \u001b[0;32mdef\u001b[0m \u001b[0m_do_call\u001b[0m\u001b[0;34m(\u001b[0m\u001b[0mself\u001b[0m\u001b[0;34m,\u001b[0m \u001b[0mfn\u001b[0m\u001b[0;34m,\u001b[0m \u001b[0;34m*\u001b[0m\u001b[0margs\u001b[0m\u001b[0;34m)\u001b[0m\u001b[0;34m:\u001b[0m\u001b[0;34m\u001b[0m\u001b[0m\n\u001b[1;32m   1322\u001b[0m     \u001b[0;32mtry\u001b[0m\u001b[0;34m:\u001b[0m\u001b[0;34m\u001b[0m\u001b[0m\n\u001b[0;32m-> 1323\u001b[0;31m       \u001b[0;32mreturn\u001b[0m \u001b[0mfn\u001b[0m\u001b[0;34m(\u001b[0m\u001b[0;34m*\u001b[0m\u001b[0margs\u001b[0m\u001b[0;34m)\u001b[0m\u001b[0;34m\u001b[0m\u001b[0m\n\u001b[0m\u001b[1;32m   1324\u001b[0m     \u001b[0;32mexcept\u001b[0m \u001b[0merrors\u001b[0m\u001b[0;34m.\u001b[0m\u001b[0mOpError\u001b[0m \u001b[0;32mas\u001b[0m \u001b[0me\u001b[0m\u001b[0;34m:\u001b[0m\u001b[0;34m\u001b[0m\u001b[0m\n\u001b[1;32m   1325\u001b[0m       \u001b[0mmessage\u001b[0m \u001b[0;34m=\u001b[0m \u001b[0mcompat\u001b[0m\u001b[0;34m.\u001b[0m\u001b[0mas_text\u001b[0m\u001b[0;34m(\u001b[0m\u001b[0me\u001b[0m\u001b[0;34m.\u001b[0m\u001b[0mmessage\u001b[0m\u001b[0;34m)\u001b[0m\u001b[0;34m\u001b[0m\u001b[0m\n",
      "\u001b[0;32m/opt/conda/lib/python3.6/site-packages/tensorflow/python/client/session.py\u001b[0m in \u001b[0;36m_run_fn\u001b[0;34m(session, feed_dict, fetch_list, target_list, options, run_metadata)\u001b[0m\n\u001b[1;32m   1300\u001b[0m           return tf_session.TF_Run(session, options,\n\u001b[1;32m   1301\u001b[0m                                    \u001b[0mfeed_dict\u001b[0m\u001b[0;34m,\u001b[0m \u001b[0mfetch_list\u001b[0m\u001b[0;34m,\u001b[0m \u001b[0mtarget_list\u001b[0m\u001b[0;34m,\u001b[0m\u001b[0;34m\u001b[0m\u001b[0m\n\u001b[0;32m-> 1302\u001b[0;31m                                    status, run_metadata)\n\u001b[0m\u001b[1;32m   1303\u001b[0m \u001b[0;34m\u001b[0m\u001b[0m\n\u001b[1;32m   1304\u001b[0m     \u001b[0;32mdef\u001b[0m \u001b[0m_prun_fn\u001b[0m\u001b[0;34m(\u001b[0m\u001b[0msession\u001b[0m\u001b[0;34m,\u001b[0m \u001b[0mhandle\u001b[0m\u001b[0;34m,\u001b[0m \u001b[0mfeed_dict\u001b[0m\u001b[0;34m,\u001b[0m \u001b[0mfetch_list\u001b[0m\u001b[0;34m)\u001b[0m\u001b[0;34m:\u001b[0m\u001b[0;34m\u001b[0m\u001b[0m\n",
      "\u001b[0;31mKeyboardInterrupt\u001b[0m: "
     ]
    }
   ],
   "source": [
    "saver = tf.train.Saver()\n",
    "with tf.Session(config=tf.ConfigProto(allow_soft_placement=True, log_device_placement=True)) as sess:\n",
    "\n",
    "    sess.run(tf.global_variables_initializer())\n",
    "   \n",
    "    #saver.restore(sess, \"./checkpoints/endtoendday3_comboxx_12_5196.ckpt\")\n",
    "    train_metrics={}\n",
    "    train_metrics['iou']=[]\n",
    "    train_metrics['losses']=[]\n",
    "    test_metrics={}\n",
    "    test_metrics['iou']=[]\n",
    "    test_metrics['losses']=[]\n",
    "    for epoch in range(15):\n",
    "        ioulist=[]\n",
    "        tl=[]\n",
    "        print('**************************************************************************************')\n",
    "        i=0\n",
    "        batchsize=5\n",
    "        pedc=0\n",
    "        while(i<(extrasheadingl.shape[0])):\n",
    "            pedc+=1\n",
    "            \n",
    "            \n",
    "            out_l =sess.run([train_op,pred_corners,corners_labels,loss, stage1_center_loss, center_loss, size_loss,\\\n",
    "                             headingclass_loss,headingreg_loss,headingclassaccuracy ,corners_dist],\\\n",
    "                            feed_dict={lr: 1e-2/(epoch+1),sel_win:class_windows[i:i+batchsize,:,:3],\\\n",
    "                                       center_reglabel:extrascenter[i:i+batchsize,:],\\\n",
    "                                                            size_reglabel:extrassize[i:i+batchsize,:],\\\n",
    "                                                            heading_class_label:extrasheadingl[i:i+batchsize,:],\\\n",
    "                                                            is_training: True,runfortest:False, heading_reglabel:extras_headingres[i:i+batchsize,:]})\n",
    "            pred_c=out_l[1]\n",
    "            label_c=out_l[2]\n",
    "            \n",
    "            #print([box3d_iou(pred_c[x],label_c[x]) for x in range(batchsize)])\n",
    "            ioulist+=[box3d_iou(pred_c[x],label_c[x]) for x in range(batchsize)]\n",
    "            \n",
    "            tl.append(out_l[3:])\n",
    "            #print(out_l[2:])\n",
    "            #print('epoch= ',epoch,'pedc= ',pedc,'loss= ',out_l[0],'average loss= ',sum(tl)/len(tl))\n",
    "            #if pedc%100==0:\n",
    "            sys.stdout.write(\"Training progress: Epoch: %d, minibatch: %d/%d , batchsize:%d  \\r\" % (epoch,pedc,extrasheadingl.shape[0]/5,batchsize))\n",
    "            sys.stdout.flush()\n",
    "                \n",
    "            i+=batchsize\n",
    "        train_metrics['iou'].append(ioulist)\n",
    "        train_metrics['losses'].append(tl)\n",
    "        save_path = saver.save(sess, \"./checkpoints/endtoendday5_comb2_\"+str(epoch)+'_'+str(pedc)+\".ckpt\")\n",
    "        print(\"Training progress: Epoch: %d, minibatch: %d/%d , batchsize:%d  \\r\" % (epoch,pedc,extrasheadingl.shape[0]/5,batchsize)) \n",
    "        print('%%%%%%%%%%%%%%%%%%%%%%%%%%%%%%%%%%%%%%%%%%%%%%%%%')\n",
    "        print('epoch= ',epoch,'pedc= ',pedc)\n",
    "        print('average loss= ',np.mean(np.array(tl),axis=0)[0])\n",
    "        print('stage1_center_loss= ',np.mean(np.array(tl),axis=0)[1])\n",
    "        print('center_loss= ',np.mean(np.array(tl),axis=0)[2])\n",
    "        print('size_loss= ',np.mean(np.array(tl),axis=0)[3])\n",
    "        print('heading_loss= ',np.mean(np.array(tl),axis=0)[4])\n",
    "        print('heading regression loss= ',np.mean(np.array(tl),axis=0)[5])\n",
    "        print('heading accuracy= ',np.mean(np.array(tl),axis=0)[6])\n",
    "        print('corner_dist= ',np.mean(np.array(tl),axis=0)[7])\n",
    "        print('iou 0.3= ',len(list(filter(lambda x: x>0.3, ioulist)))/len(ioulist))\n",
    "        print('iou 0.5= ',len(list(filter(lambda x: x>0.5, ioulist)))/len(ioulist))\n",
    "        tl=[]\n",
    "\n",
    "            \n",
    "        it = 0\n",
    "        \n",
    "        ioulist_test=[]\n",
    "        tl_test=[]\n",
    "        pedc=0\n",
    "        while it<1100:#:val_extras.shape[0]:\n",
    "            pedc+=1\n",
    "            \n",
    "            \n",
    "            out_l =sess.run([pred_corners,corners_labels,loss, stage1_center_loss, center_loss, size_loss,\\\n",
    "                             headingclass_loss,headingreg_loss,headingclassaccuracy ,corners_dist],\\\n",
    "                            feed_dict={sel_win:val_class_windows[it:it+batchsize,:,:3],\\\n",
    "                                       center_reglabel:val_extrascenter[it:it+batchsize,:],\\\n",
    "                                                            size_reglabel:val_extrassize[it:it+batchsize,:],\\\n",
    "                                                            heading_class_label:val_extrasheadingl[it:it+batchsize,:],\\\n",
    "                                                            is_training: True,runfortest:True, \\\n",
    "                                       heading_reglabel:val_extras_headingres[it:it+batchsize,:]})\n",
    "            pred_c=out_l[0]\n",
    "            label_c=out_l[1]\n",
    "            \n",
    "            #print([box3d_iou(pred_c[x],label_c[x]) for x in range(batchsize)])\n",
    "            ioulist_test+=[box3d_iou(pred_c[x],label_c[x]) for x in range(batchsize)]\n",
    "            \n",
    "            tl_test.append(out_l[2:])\n",
    "            #print(out_l[2:])\n",
    "            #print('epoch= ',epoch,'pedc= ',pedc,'loss= ',out_l[0],'average loss= ',sum(tl)/len(tl))\n",
    "            #if pedc%100==0:\n",
    "            #if pedc%100==0:\n",
    "                #save_path = saver.save(sess, \"./checkpoints/endtoendday2_\"+str(epoch)+'_'+str(pedc)+\".ckpt\")\n",
    "            it += batchsize\n",
    "            \n",
    "        test_metrics['iou'].append(ioulist_test)\n",
    "        test_metrics['losses'].append(tl_test)\n",
    "        \n",
    "        print('&&&&&&&&&&&&&&&&&&&&&&&&&&&&&&&&&& TEST RESULTS&&&&&&&&&&&&&&&&&&&&&&&&&&')\n",
    "        print('%%%%%%%%%%%%%%%%%%%%%%%%%%%%%%%%%%%%%%%%%%%%%%%%%')\n",
    "        print('epoch= ',epoch,'pedc= ',pedc)\n",
    "        print('average loss= ',np.mean(np.array(tl_test),axis=0)[0])\n",
    "        print('stage1_center_loss= ',np.mean(np.array(tl_test),axis=0)[1])\n",
    "        print('center_loss= ',np.mean(np.array(tl_test),axis=0)[2])\n",
    "        print('size_loss= ',np.mean(np.array(tl_test),axis=0)[3])\n",
    "        print('heading_loss= ',np.mean(np.array(tl_test),axis=0)[4])\n",
    "        print('heading regression loss= ',np.mean(np.array(tl_test),axis=0)[5])\n",
    "        print('heading accuracy= ',np.mean(np.array(tl_test),axis=0)[6])\n",
    "        print('corner_dist= ',np.mean(np.array(tl_test),axis=0)[7])\n",
    "        print('iou 0.3= ',len(list(filter(lambda x: x>0.3, ioulist_test)))/len(ioulist_test))\n",
    "        print('iou 0.4= ',len(list(filter(lambda x: x>0.4, ioulist_test)))/len(ioulist_test))\n",
    "        print('iou 0.45= ',len(list(filter(lambda x: x>0.45, ioulist_test)))/len(ioulist_test))\n",
    "        print('iou 0.47= ',len(list(filter(lambda x: x>0.47, ioulist_test)))/len(ioulist_test))\n",
    "        print('iou 0.5= ',len(list(filter(lambda x: x>0.5, ioulist_test)))/len(ioulist_test))\n",
    "        tl_test=[]\n",
    "        np.save('./Windows/n1train_metrics_iou',np.array(train_metrics['iou']), allow_pickle=True)\n",
    "        np.save('./Windows/n1train_metrics_losses',np.array(train_metrics['losses']) , allow_pickle=True)\n",
    "        np.save('./Windows/n1test_metrics_iou',np.array(test_metrics['iou']), allow_pickle=True)\n",
    "        np.save('./Windows/n1test_metrics_losses',np.array(test_metrics['losses']) , allow_pickle=True)"
   ]
  },
  {
   "cell_type": "code",
   "execution_count": null,
   "metadata": {},
   "outputs": [],
   "source": [
    "import numpy as np\n",
    "from matplotlib import pyplot as plt"
   ]
  },
  {
   "cell_type": "code",
   "execution_count": null,
   "metadata": {},
   "outputs": [],
   "source": [
    "train_iou=np.load('./Windows/train_metrics_iou.npy', allow_pickle=True)\n",
    "test_iou=np.load('./Windows/test_metrics_iou.npy', allow_pickle=True)\n",
    "train_losses=np.load('./Windows/train_metrics_losses.npy', allow_pickle=True)\n",
    "test_losses=np.load('./Windows/test_metrics_losses.npy', allow_pickle=True)"
   ]
  },
  {
   "cell_type": "code",
   "execution_count": null,
   "metadata": {},
   "outputs": [],
   "source": [
    "train_iou=np.load('./Windows/n1train_metrics_iou.npy', allow_pickle=True)\n",
    "test_iou=np.load('./Windows/n1test_metrics_iou.npy', allow_pickle=True)\n",
    "train_losses=np.load('./Windows/n1train_metrics_losses.npy', allow_pickle=True)\n",
    "test_losses=np.load('./Windows/n1test_metrics_losses.npy', allow_pickle=True)"
   ]
  },
  {
   "cell_type": "code",
   "execution_count": null,
   "metadata": {},
   "outputs": [],
   "source": [
    "avg_test_loss=np.mean(test_losses,axis=1)\n",
    "\n",
    "\n",
    "plt.plot(avg_test_loss[:,0])\n",
    "plt.ylabel('loss')\n",
    "plt.xlabel('epochs')"
   ]
  },
  {
   "cell_type": "code",
   "execution_count": null,
   "metadata": {},
   "outputs": [],
   "source": [
    "avg_train_loss=np.mean(train_losses,axis=1)\n",
    "plt.plot(avg_train_loss[:,0])\n",
    "plt.ylabel('loss')\n",
    "plt.xlabel('epochs')"
   ]
  },
  {
   "cell_type": "code",
   "execution_count": 16,
   "metadata": {},
   "outputs": [
    {
     "data": {
      "text/plain": [
       "<matplotlib.legend.Legend at 0x7f0e69d2e5f8>"
      ]
     },
     "execution_count": 16,
     "metadata": {},
     "output_type": "execute_result"
    },
    {
     "data": {
      "image/png": "[encoded data removed]",
      "text/plain": [
       "<Figure size 432x288 with 1 Axes>"
      ]
     },
     "metadata": {},
     "output_type": "display_data"
    }
   ],
   "source": [
    "fig, ax = plt.subplots()\n",
    "ax.plot([len(list(filter(lambda x: x>0.5, lx)))/len(lx) for lx in train_iou],label='0.5 IOU')\n",
    "ax.plot([len(list(filter(lambda x: x>0.4, lx)))/len(lx) for lx in train_iou],label='0.4 IOU')\n",
    "ax.plot([len(list(filter(lambda x: x>0.45, lx)))/len(lx) for lx in train_iou],label='0.45 IOU')\n",
    "ax.set_xlabel('epochs')\n",
    "ax.set_ylabel('Train IOU')\n",
    "ax.legend()"
   ]
  },
  {
   "cell_type": "code",
   "execution_count": 15,
   "metadata": {},
   "outputs": [
    {
     "data": {
      "text/plain": [
       "<matplotlib.legend.Legend at 0x7f0e69d34f28>"
      ]
     },
     "execution_count": 15,
     "metadata": {},
     "output_type": "execute_result"
    },
    {
     "data": {
      "image/png": "[encoded data removed]",
      "text/plain": [
       "<Figure size 432x288 with 1 Axes>"
      ]
     },
     "metadata": {},
     "output_type": "display_data"
    }
   ],
   "source": [
    "fig, ax = plt.subplots()\n",
    "ax.plot([len(list(filter(lambda x: x>0.5, lx)))/len(lx) for lx in test_iou],label='0.5 IOU')\n",
    "ax.plot([len(list(filter(lambda x: x>0.4, lx)))/len(lx) for lx in test_iou],label='0.4 IOU')\n",
    "ax.plot([len(list(filter(lambda x: x>0.45, lx)))/len(lx) for lx in test_iou],label='0.45 IOU')\n",
    "ax.set_xlabel('epochs')\n",
    "ax.set_ylabel('Test IOU')\n",
    "ax.legend()"
   ]
  },
  {
   "cell_type": "code",
   "execution_count": null,
   "metadata": {},
   "outputs": [],
   "source": []
  },
  {
   "cell_type": "code",
   "execution_count": null,
   "metadata": {},
   "outputs": [],
   "source": []
  },
  {
   "cell_type": "code",
   "execution_count": null,
   "metadata": {},
   "outputs": [],
   "source": []
  },
  {
   "cell_type": "code",
   "execution_count": null,
   "metadata": {},
   "outputs": [],
   "source": []
  },
  {
   "cell_type": "code",
   "execution_count": null,
   "metadata": {},
   "outputs": [],
   "source": [
    "Loss\n",
    "Precision\n",
    "Recall\n",
    "Singlemetric precision\n",
    "\n",
    "\n",
    "\n",
    "\n",
    "Visualizations:\n",
    "Total Point cloud\n",
    "Segmented pointcloud\n",
    "3D visualization\n",
    "\n",
    "\n",
    "\n",
    "\n",
    "regression:\n",
    "Every individial loss\n",
    "Combined loss\n",
    "Iou\n",
    "\n",
    "\n",
    "\n",
    "Table\n",
    "\n",
    "Iou graph\n",
    "\n"
   ]
  },
  {
   "cell_type": "code",
   "execution_count": null,
   "metadata": {},
   "outputs": [],
   "source": []
  },
  {
   "cell_type": "code",
   "execution_count": 39,
   "metadata": {
    "scrolled": true
   },
   "outputs": [
    {
     "name": "stdout",
     "output_type": "stream",
     "text": [
      "**************************************************************************************\n",
      "%%%%%%%%%%%%%%%%%%%%%%%%%%%%%%%%%%%%%%%%%%%%%%%%%\n",
      "epoch=  0 pedc=  100\n",
      "average loss=  13.731311\n",
      "stage1_center_loss=  1.4284105\n",
      "center_loss=  0.9993736\n",
      "size_loss=  0.809355\n",
      "heading_loss=  1.9100957\n",
      "heading regression loss=  1.3004416\n",
      "heading accuracy=  0.19199996\n",
      "corner_dist=  1.0392252\n",
      "iou 0.3=  0.076\n",
      "iou 0.5=  0.008\n",
      "%%%%%%%%%%%%%%%%%%%%%%%%%%%%%%%%%%%%%%%%%%%%%%%%%\n",
      "epoch=  0 pedc=  200\n",
      "average loss=  9.985844\n",
      "stage1_center_loss=  1.0614095\n",
      "center_loss=  0.7396658\n",
      "size_loss=  0.4822385\n",
      "heading_loss=  1.8432364\n",
      "heading regression loss=  0.8104256\n",
      "heading accuracy=  0.20999998\n",
      "corner_dist=  0.7833339\n",
      "iou 0.3=  0.148\n",
      "iou 0.5=  0.017\n",
      "%%%%%%%%%%%%%%%%%%%%%%%%%%%%%%%%%%%%%%%%%%%%%%%%%\n",
      "epoch=  0 pedc=  300\n",
      "average loss=  8.285566\n",
      "stage1_center_loss=  0.78819025\n",
      "center_loss=  0.59547484\n",
      "size_loss=  0.40523204\n",
      "heading_loss=  1.8417488\n",
      "heading regression loss=  0.6718944\n",
      "heading accuracy=  0.20399998\n",
      "corner_dist=  0.6476516\n",
      "iou 0.3=  0.23266666666666666\n",
      "iou 0.5=  0.04\n",
      "%%%%%%%%%%%%%%%%%%%%%%%%%%%%%%%%%%%%%%%%%%%%%%%%%\n",
      "epoch=  0 pedc=  400\n",
      "average loss=  7.1702867\n",
      "stage1_center_loss=  0.63330007\n",
      "center_loss=  0.47590736\n",
      "size_loss=  0.34890094\n",
      "heading_loss=  1.8233131\n",
      "heading regression loss=  0.6237474\n",
      "heading accuracy=  0.18999997\n",
      "corner_dist=  0.53389513\n",
      "iou 0.3=  0.3155\n",
      "iou 0.5=  0.065\n"
     ]
    },
    {
     "ename": "KeyboardInterrupt",
     "evalue": "",
     "output_type": "error",
     "traceback": [
      "\u001b[0;31m\u001b[0m",
      "\u001b[0;31mKeyboardInterrupt\u001b[0mTraceback (most recent call last)",
      "\u001b[0;32m<ipython-input-39-59391cd66db8>\u001b[0m in \u001b[0;36m<module>\u001b[0;34m()\u001b[0m\n\u001b[1;32m     29\u001b[0m             \u001b[0;31m#if pedc%100==0:\u001b[0m\u001b[0;34m\u001b[0m\u001b[0;34m\u001b[0m\u001b[0m\n\u001b[1;32m     30\u001b[0m             \u001b[0;32mif\u001b[0m \u001b[0mpedc\u001b[0m\u001b[0;34m%\u001b[0m\u001b[0;36m100\u001b[0m\u001b[0;34m==\u001b[0m\u001b[0;36m0\u001b[0m\u001b[0;34m:\u001b[0m\u001b[0;34m\u001b[0m\u001b[0m\n\u001b[0;32m---> 31\u001b[0;31m                 \u001b[0msave_path\u001b[0m \u001b[0;34m=\u001b[0m \u001b[0msaver\u001b[0m\u001b[0;34m.\u001b[0m\u001b[0msave\u001b[0m\u001b[0;34m(\u001b[0m\u001b[0msess\u001b[0m\u001b[0;34m,\u001b[0m \u001b[0;34m\"./checkpoints/endtoendday2_\"\u001b[0m\u001b[0;34m+\u001b[0m\u001b[0mstr\u001b[0m\u001b[0;34m(\u001b[0m\u001b[0mepoch\u001b[0m\u001b[0;34m)\u001b[0m\u001b[0;34m+\u001b[0m\u001b[0;34m'_'\u001b[0m\u001b[0;34m+\u001b[0m\u001b[0mstr\u001b[0m\u001b[0;34m(\u001b[0m\u001b[0mpedc\u001b[0m\u001b[0;34m)\u001b[0m\u001b[0;34m+\u001b[0m\u001b[0;34m\".ckpt\"\u001b[0m\u001b[0;34m)\u001b[0m\u001b[0;34m\u001b[0m\u001b[0m\n\u001b[0m\u001b[1;32m     32\u001b[0m \u001b[0;34m\u001b[0m\u001b[0m\n\u001b[1;32m     33\u001b[0m                 \u001b[0mprint\u001b[0m\u001b[0;34m(\u001b[0m\u001b[0;34m'%%%%%%%%%%%%%%%%%%%%%%%%%%%%%%%%%%%%%%%%%%%%%%%%%'\u001b[0m\u001b[0;34m)\u001b[0m\u001b[0;34m\u001b[0m\u001b[0m\n",
      "\u001b[0;32m/opt/conda/lib/python3.6/site-packages/tensorflow/python/training/saver.py\u001b[0m in \u001b[0;36msave\u001b[0;34m(self, sess, save_path, global_step, latest_filename, meta_graph_suffix, write_meta_graph, write_state)\u001b[0m\n\u001b[1;32m   1599\u001b[0m       \u001b[0;32mif\u001b[0m \u001b[0mcontext\u001b[0m\u001b[0;34m.\u001b[0m\u001b[0min_graph_mode\u001b[0m\u001b[0;34m(\u001b[0m\u001b[0;34m)\u001b[0m\u001b[0;34m:\u001b[0m\u001b[0;34m\u001b[0m\u001b[0m\n\u001b[1;32m   1600\u001b[0m         \u001b[0;32mwith\u001b[0m \u001b[0msess\u001b[0m\u001b[0;34m.\u001b[0m\u001b[0mgraph\u001b[0m\u001b[0;34m.\u001b[0m\u001b[0mas_default\u001b[0m\u001b[0;34m(\u001b[0m\u001b[0;34m)\u001b[0m\u001b[0;34m:\u001b[0m\u001b[0;34m\u001b[0m\u001b[0m\n\u001b[0;32m-> 1601\u001b[0;31m           \u001b[0mself\u001b[0m\u001b[0;34m.\u001b[0m\u001b[0mexport_meta_graph\u001b[0m\u001b[0;34m(\u001b[0m\u001b[0mmeta_graph_filename\u001b[0m\u001b[0;34m)\u001b[0m\u001b[0;34m\u001b[0m\u001b[0m\n\u001b[0m\u001b[1;32m   1602\u001b[0m \u001b[0;34m\u001b[0m\u001b[0m\n\u001b[1;32m   1603\u001b[0m     \u001b[0;32mif\u001b[0m \u001b[0mself\u001b[0m\u001b[0;34m.\u001b[0m\u001b[0m_is_empty\u001b[0m\u001b[0;34m:\u001b[0m\u001b[0;34m\u001b[0m\u001b[0m\n",
      "\u001b[0;32m/opt/conda/lib/python3.6/site-packages/tensorflow/python/training/saver.py\u001b[0m in \u001b[0;36mexport_meta_graph\u001b[0;34m(self, filename, collection_list, as_text, export_scope, clear_devices, clear_extraneous_savers)\u001b[0m\n\u001b[1;32m   1631\u001b[0m     return export_meta_graph(\n\u001b[1;32m   1632\u001b[0m         \u001b[0mfilename\u001b[0m\u001b[0;34m=\u001b[0m\u001b[0mfilename\u001b[0m\u001b[0;34m,\u001b[0m\u001b[0;34m\u001b[0m\u001b[0m\n\u001b[0;32m-> 1633\u001b[0;31m         \u001b[0mgraph_def\u001b[0m\u001b[0;34m=\u001b[0m\u001b[0mops\u001b[0m\u001b[0;34m.\u001b[0m\u001b[0mget_default_graph\u001b[0m\u001b[0;34m(\u001b[0m\u001b[0;34m)\u001b[0m\u001b[0;34m.\u001b[0m\u001b[0mas_graph_def\u001b[0m\u001b[0;34m(\u001b[0m\u001b[0madd_shapes\u001b[0m\u001b[0;34m=\u001b[0m\u001b[0;32mTrue\u001b[0m\u001b[0;34m)\u001b[0m\u001b[0;34m,\u001b[0m\u001b[0;34m\u001b[0m\u001b[0m\n\u001b[0m\u001b[1;32m   1634\u001b[0m         \u001b[0msaver_def\u001b[0m\u001b[0;34m=\u001b[0m\u001b[0mself\u001b[0m\u001b[0;34m.\u001b[0m\u001b[0msaver_def\u001b[0m\u001b[0;34m,\u001b[0m\u001b[0;34m\u001b[0m\u001b[0m\n\u001b[1;32m   1635\u001b[0m         \u001b[0mcollection_list\u001b[0m\u001b[0;34m=\u001b[0m\u001b[0mcollection_list\u001b[0m\u001b[0;34m,\u001b[0m\u001b[0;34m\u001b[0m\u001b[0m\n",
      "\u001b[0;32m/opt/conda/lib/python3.6/site-packages/tensorflow/python/framework/ops.py\u001b[0m in \u001b[0;36mas_graph_def\u001b[0;34m(self, from_version, add_shapes)\u001b[0m\n\u001b[1;32m   2771\u001b[0m     \"\"\"\n\u001b[1;32m   2772\u001b[0m     \u001b[0;31m# pylint: enable=line-too-long\u001b[0m\u001b[0;34m\u001b[0m\u001b[0;34m\u001b[0m\u001b[0m\n\u001b[0;32m-> 2773\u001b[0;31m     \u001b[0mresult\u001b[0m\u001b[0;34m,\u001b[0m \u001b[0m_\u001b[0m \u001b[0;34m=\u001b[0m \u001b[0mself\u001b[0m\u001b[0;34m.\u001b[0m\u001b[0m_as_graph_def\u001b[0m\u001b[0;34m(\u001b[0m\u001b[0mfrom_version\u001b[0m\u001b[0;34m,\u001b[0m \u001b[0madd_shapes\u001b[0m\u001b[0;34m)\u001b[0m\u001b[0;34m\u001b[0m\u001b[0m\n\u001b[0m\u001b[1;32m   2774\u001b[0m     \u001b[0;32mreturn\u001b[0m \u001b[0mresult\u001b[0m\u001b[0;34m\u001b[0m\u001b[0m\n\u001b[1;32m   2775\u001b[0m \u001b[0;34m\u001b[0m\u001b[0m\n",
      "\u001b[0;32m/opt/conda/lib/python3.6/site-packages/tensorflow/python/framework/ops.py\u001b[0m in \u001b[0;36m_as_graph_def\u001b[0;34m(self, from_version, add_shapes)\u001b[0m\n\u001b[1;32m   2724\u001b[0m         \u001b[0mop\u001b[0m \u001b[0;34m=\u001b[0m \u001b[0mself\u001b[0m\u001b[0;34m.\u001b[0m\u001b[0m_nodes_by_id\u001b[0m\u001b[0;34m[\u001b[0m\u001b[0mop_id\u001b[0m\u001b[0;34m]\u001b[0m\u001b[0;34m\u001b[0m\u001b[0m\n\u001b[1;32m   2725\u001b[0m         \u001b[0;32mif\u001b[0m \u001b[0mfrom_version\u001b[0m \u001b[0;32mis\u001b[0m \u001b[0;32mNone\u001b[0m \u001b[0;32mor\u001b[0m \u001b[0mop_id\u001b[0m \u001b[0;34m>\u001b[0m \u001b[0mfrom_version\u001b[0m\u001b[0;34m:\u001b[0m\u001b[0;34m\u001b[0m\u001b[0m\n\u001b[0;32m-> 2726\u001b[0;31m           \u001b[0mgraph\u001b[0m\u001b[0;34m.\u001b[0m\u001b[0mnode\u001b[0m\u001b[0;34m.\u001b[0m\u001b[0mextend\u001b[0m\u001b[0;34m(\u001b[0m\u001b[0;34m[\u001b[0m\u001b[0mop\u001b[0m\u001b[0;34m.\u001b[0m\u001b[0mnode_def\u001b[0m\u001b[0;34m]\u001b[0m\u001b[0;34m)\u001b[0m\u001b[0;34m\u001b[0m\u001b[0m\n\u001b[0m\u001b[1;32m   2727\u001b[0m           \u001b[0;32mif\u001b[0m \u001b[0mop\u001b[0m\u001b[0;34m.\u001b[0m\u001b[0moutputs\u001b[0m \u001b[0;32mand\u001b[0m \u001b[0madd_shapes\u001b[0m\u001b[0;34m:\u001b[0m\u001b[0;34m\u001b[0m\u001b[0m\n\u001b[1;32m   2728\u001b[0m             \u001b[0;32massert\u001b[0m \u001b[0;34m\"_output_shapes\"\u001b[0m \u001b[0;32mnot\u001b[0m \u001b[0;32min\u001b[0m \u001b[0mgraph\u001b[0m\u001b[0;34m.\u001b[0m\u001b[0mnode\u001b[0m\u001b[0;34m[\u001b[0m\u001b[0;34m-\u001b[0m\u001b[0;36m1\u001b[0m\u001b[0;34m]\u001b[0m\u001b[0;34m.\u001b[0m\u001b[0mattr\u001b[0m\u001b[0;34m\u001b[0m\u001b[0m\n",
      "\u001b[0;31mKeyboardInterrupt\u001b[0m: "
     ]
    }
   ],
   "source": [
    "saver = tf.train.Saver()\n",
    "with tf.Session(config=tf.ConfigProto(allow_soft_placement=True, log_device_placement=True)) as sess:\n",
    "\n",
    "    sess.run(tf.global_variables_initializer())\n",
    "   \n",
    "    \n",
    "    \n",
    "    for epoch in range(30):\n",
    "        ioulist=[]\n",
    "        tl=[]\n",
    "        print('**************************************************************************************')\n",
    "        i=0\n",
    "        batchsize=5\n",
    "        pedc=0\n",
    "        while(i<(extras.shape[0]-5000)):\n",
    "            pedc+=1\n",
    "            \n",
    "            \n",
    "            out_l =sess.run([train_op,pred_corners,corners_labels,loss, stage1_center_loss, center_loss, size_loss,\\\n",
    "                             headingclass_loss,headingreg_loss,headingclassaccuracy ,corners_dist],\\\n",
    "                            feed_dict={lr: 1e-3/(epoch+1),sel_win:class_windows[i:i+batchsize,:,:3],\\\n",
    "                                       center_reglabel:extrascenter[i:i+batchsize,:],\\\n",
    "                                                            size_reglabel:extrassize[i:i+batchsize,:],\\\n",
    "                                                            heading_class_label:extrasheadingl[i:i+batchsize,:],\\\n",
    "                                                            is_training: True,runfortest:False, heading_reglabel:extras_headingres[i:i+batchsize,:]})\n",
    "            pred_c=out_l[1]\n",
    "            label_c=out_l[2]\n",
    "            \n",
    "            #print([box3d_iou(pred_c[x],label_c[x]) for x in range(batchsize)])\n",
    "            ioulist+=[box3d_iou(pred_c[x],label_c[x]) for x in range(batchsize)]\n",
    "            \n",
    "            tl.append(out_l[3:])\n",
    "            #print(out_l[2:])\n",
    "            #print('epoch= ',epoch,'pedc= ',pedc,'loss= ',out_l[0],'average loss= ',sum(tl)/len(tl))\n",
    "            #if pedc%100==0:\n",
    "            if pedc%100==0:\n",
    "                save_path = saver.save(sess, \"./checkpoints/endtoendday2_\"+str(epoch)+'_'+str(pedc)+\".ckpt\")\n",
    "\n",
    "                print('%%%%%%%%%%%%%%%%%%%%%%%%%%%%%%%%%%%%%%%%%%%%%%%%%')\n",
    "                print('epoch= ',epoch,'pedc= ',pedc)\n",
    "                print('average loss= ',np.mean(np.array(tl),axis=0)[0])\n",
    "                print('stage1_center_loss= ',np.mean(np.array(tl),axis=0)[1])\n",
    "                print('center_loss= ',np.mean(np.array(tl),axis=0)[2])\n",
    "                print('size_loss= ',np.mean(np.array(tl),axis=0)[3])\n",
    "                print('heading_loss= ',np.mean(np.array(tl),axis=0)[4])\n",
    "                print('heading regression loss= ',np.mean(np.array(tl),axis=0)[5])\n",
    "                print('heading accuracy= ',np.mean(np.array(tl),axis=0)[6])\n",
    "                print('corner_dist= ',np.mean(np.array(tl),axis=0)[7])\n",
    "                print('iou 0.3= ',len(list(filter(lambda x: x>0.3, ioulist)))/len(ioulist))\n",
    "                print('iou 0.5= ',len(list(filter(lambda x: x>0.5, ioulist)))/len(ioulist))\n",
    "                tl=[]\n",
    "                \n",
    "            i+=batchsize\n",
    "        it = extras.shape[0]-5000\n",
    "        \n",
    "        ioulist_test=[]\n",
    "        tl_test=[]\n",
    "        while it<extras.shape[0]:\n",
    "            pedc+=1\n",
    "            \n",
    "            \n",
    "            out_l =sess.run([pred_corners,corners_labels,loss, stage1_center_loss, center_loss, size_loss,\\\n",
    "                             headingclass_loss,headingreg_loss,headingclassaccuracy ,corners_dist],\\\n",
    "                            feed_dict={lr: 1e-3/(epoch+1),sel_win:class_windows[it:it+batchsize,:,:3],\\\n",
    "                                       center_reglabel:extrascenter[it:it+batchsize,:],\\\n",
    "                                                            size_reglabel:extrassize[it:it+batchsize,:],\\\n",
    "                                                            heading_class_label:extrasheadingl[it:it+batchsize,:],\\\n",
    "                                                            is_training: True,runfortest:True, \\\n",
    "                                       heading_reglabel:extras_headingres[it:it+batchsize,:]})\n",
    "            pred_c=out_l[0]\n",
    "            label_c=out_l[1]\n",
    "            \n",
    "            #print([box3d_iou(pred_c[x],label_c[x]) for x in range(batchsize)])\n",
    "            ioulist_test+=[box3d_iou(pred_c[x],label_c[x]) for x in range(batchsize)]\n",
    "            \n",
    "            tl_test.append(out_l[2:])\n",
    "            #print(out_l[2:])\n",
    "            #print('epoch= ',epoch,'pedc= ',pedc,'loss= ',out_l[0],'average loss= ',sum(tl)/len(tl))\n",
    "            #if pedc%100==0:\n",
    "            if pedc%100==0:\n",
    "                #save_path = saver.save(sess, \"./checkpoints/endtoendday2_\"+str(epoch)+'_'+str(pedc)+\".ckpt\")\n",
    "                print('&&&&&&&&&&&&&&&&&&&&&&&&&&&&&&&&&& TEST RESULTS&&&&&&&&&&&&&&&&&&&&&&&&&&')\n",
    "                print('%%%%%%%%%%%%%%%%%%%%%%%%%%%%%%%%%%%%%%%%%%%%%%%%%')\n",
    "                print('epoch= ',epoch,'pedc= ',pedc)\n",
    "                print('average loss= ',np.mean(np.array(tl_test),axis=0)[0])\n",
    "                print('stage1_center_loss= ',np.mean(np.array(tl_test),axis=0)[1])\n",
    "                print('center_loss= ',np.mean(np.array(tl_test),axis=0)[2])\n",
    "                print('size_loss= ',np.mean(np.array(tl_test),axis=0)[3])\n",
    "                print('heading_loss= ',np.mean(np.array(tl_test),axis=0)[4])\n",
    "                print('heading regression loss= ',np.mean(np.array(tl_test),axis=0)[5])\n",
    "                print('heading accuracy= ',np.mean(np.array(tl_test),axis=0)[6])\n",
    "                print('corner_dist= ',np.mean(np.array(tl_test),axis=0)[7])\n",
    "                print('iou 0.3= ',len(list(filter(lambda x: x>0.3, ioulist_test)))/len(ioulist_test))\n",
    "                print('iou 0.5= ',len(list(filter(lambda x: x>0.5, ioulist_test)))/len(ioulist_test))\n",
    "                tl_test=[]\n",
    "            it += batchsize"
   ]
  },
  {
   "cell_type": "code",
   "execution_count": null,
   "metadata": {},
   "outputs": [],
   "source": [
    "# TEST SET EVALUATION"
   ]
  },
  {
   "cell_type": "code",
   "execution_count": 84,
   "metadata": {
    "scrolled": true
   },
   "outputs": [
    {
     "name": "stdout",
     "output_type": "stream",
     "text": [
      "INFO:tensorflow:Restoring parameters from ./checkpoints/endtoendday5_comb2_8_5196.ckpt\n",
      "**************************************************************************************\n",
      "%%%%%%%%%%%%%%%%%%%%%%%%%%%%%%%%%%%%%%%%%%%%%%%%%\n",
      "epoch=  0 pedc=  227\n",
      "average loss=  7.458799\n",
      "stage1_center_loss=  0.5590288\n",
      "center_loss=  0.55866045\n",
      "size_loss=  0.26022074\n",
      "heading_loss=  1.554009\n",
      "heading regression loss=  0.31928664\n",
      "heading accuracy=  0.37092522\n",
      "corner_dist=  0.59577614\n",
      "iou 0.4=  0.7894273127753304\n",
      "iou 0.45=  0.7480176211453744\n",
      "iou 0.5=  0.6687224669603524\n",
      "INFO:tensorflow:Restoring parameters from ./checkpoints/endtoendday5_comb2_9_5196.ckpt\n",
      "**************************************************************************************\n",
      "%%%%%%%%%%%%%%%%%%%%%%%%%%%%%%%%%%%%%%%%%%%%%%%%%\n",
      "epoch=  0 pedc=  227\n",
      "average loss=  7.460895\n",
      "stage1_center_loss=  0.55858773\n",
      "center_loss=  0.5575532\n",
      "size_loss=  0.2594233\n",
      "heading_loss=  1.5664009\n",
      "heading regression loss=  0.31833735\n",
      "heading accuracy=  0.36563882\n",
      "corner_dist=  0.5950209\n",
      "iou 0.4=  0.7911894273127753\n",
      "iou 0.45=  0.7524229074889868\n",
      "iou 0.5=  0.66784140969163\n",
      "INFO:tensorflow:Restoring parameters from ./checkpoints/endtoendday5_comb2_10_5196.ckpt\n",
      "**************************************************************************************\n",
      "%%%%%%%%%%%%%%%%%%%%%%%%%%%%%%%%%%%%%%%%%%%%%%%%%\n",
      "epoch=  0 pedc=  227\n",
      "average loss=  7.4759316\n",
      "stage1_center_loss=  0.5615721\n",
      "center_loss=  0.56114995\n",
      "size_loss=  0.259944\n",
      "heading_loss=  1.555501\n",
      "heading regression loss=  0.31745437\n",
      "heading accuracy=  0.37004414\n",
      "corner_dist=  0.5975182\n",
      "iou 0.4=  0.7841409691629956\n",
      "iou 0.45=  0.7418502202643171\n",
      "iou 0.5=  0.66431718061674\n",
      "INFO:tensorflow:Restoring parameters from ./checkpoints/endtoendday5_comb2_11_5196.ckpt\n",
      "**************************************************************************************\n",
      "%%%%%%%%%%%%%%%%%%%%%%%%%%%%%%%%%%%%%%%%%%%%%%%%%\n",
      "epoch=  0 pedc=  227\n",
      "average loss=  7.4725175\n",
      "stage1_center_loss=  0.5608535\n",
      "center_loss=  0.55957025\n",
      "size_loss=  0.2600001\n",
      "heading_loss=  1.5614637\n",
      "heading regression loss=  0.3168512\n",
      "heading accuracy=  0.37709257\n",
      "corner_dist=  0.5964668\n",
      "iou 0.4=  0.7911894273127753\n",
      "iou 0.45=  0.7515418502202643\n",
      "iou 0.5=  0.6696035242290749\n",
      "INFO:tensorflow:Restoring parameters from ./checkpoints/endtoendday5_comb2_12_5196.ckpt\n",
      "**************************************************************************************\n",
      "%%%%%%%%%%%%%%%%%%%%%%%%%%%%%%%%%%%%%%%%%%%%%%%%%\n",
      "epoch=  0 pedc=  227\n",
      "average loss=  7.432207\n",
      "stage1_center_loss=  0.5560358\n",
      "center_loss=  0.55506456\n",
      "size_loss=  0.2600389\n",
      "heading_loss=  1.554813\n",
      "heading regression loss=  0.31709614\n",
      "heading accuracy=  0.38502204\n",
      "corner_dist=  0.59342\n",
      "iou 0.4=  0.7929515418502202\n",
      "iou 0.45=  0.7533039647577092\n",
      "iou 0.5=  0.6722466960352423\n"
     ]
    }
   ],
   "source": [
    "saver = tf.train.Saver()\n",
    "with tf.Session(config=tf.ConfigProto(allow_soft_placement=True, log_device_placement=True)) as sess:\n",
    "\n",
    "    sess.run(tf.global_variables_initializer())\n",
    "   \n",
    "    for j in range(8,13):\n",
    "        saver.restore(sess, \"./checkpoints/endtoendday5_comb2_\"+str(j)+\"_5196.ckpt\")\n",
    "        for epoch in range(1):\n",
    "            ioulist=[]\n",
    "            tl=[]\n",
    "            print('**************************************************************************************')\n",
    "            i=1100\n",
    "            batchsize=5\n",
    "            pedc=0\n",
    "            while(i<(val_extras.shape[0])):\n",
    "                #print('Hiiiiiiiiiiiii')\n",
    "                pedc+=1\n",
    "\n",
    "\n",
    "                out_l =sess.run([pred_corners,corners_labels,loss, stage1_center_loss, center_loss, size_loss,\\\n",
    "                                 headingclass_loss,headingreg_loss,headingclassaccuracy ,corners_dist],\\\n",
    "                                feed_dict={lr: 1e-3/(epoch+1),sel_win:val_class_windows[i:i+batchsize,:,:3],\\\n",
    "                                           center_reglabel:val_extrascenter[i:i+batchsize,:],\\\n",
    "                                                                size_reglabel:val_extrassize[i:i+batchsize,:],\\\n",
    "                                                                heading_class_label:val_extrasheadingl[i:i+batchsize,:],\\\n",
    "                                                                is_training: True,runfortest:False, heading_reglabel:val_extras_headingres[i:i+batchsize,:]})\n",
    "                pred_c=out_l[0]\n",
    "                label_c=out_l[1]\n",
    "\n",
    "                #print([box3d_iou(pred_c[x],label_c[x]) for x in range(batchsize)])\n",
    "                ioulist+=[box3d_iou(pred_c[x],label_c[x]) for x in range(batchsize)]\n",
    "\n",
    "                tl.append(out_l[2:])\n",
    "                #print(out_l[2:])\n",
    "                #print('epoch= ',epoch,'pedc= ',pedc,'loss= ',out_l[0],'average loss= ',sum(tl)/len(tl))\n",
    "                #if pedc%100==0:\n",
    "                #if pedc%100==0:\n",
    "                    #save_path = saver.save(sess, \"./checkpoints/endtoendday2_\"+str(epoch)+'_'+str(pedc)+\".ckpt\"\n",
    "\n",
    "                i+=batchsize\n",
    "            print('%%%%%%%%%%%%%%%%%%%%%%%%%%%%%%%%%%%%%%%%%%%%%%%%%')\n",
    "            print('epoch= ',epoch,'pedc= ',pedc)\n",
    "            print('average loss= ',np.mean(np.array(tl),axis=0)[0])\n",
    "            print('stage1_center_loss= ',np.mean(np.array(tl),axis=0)[1])\n",
    "            print('center_loss= ',np.mean(np.array(tl),axis=0)[2])\n",
    "            print('size_loss= ',np.mean(np.array(tl),axis=0)[3])\n",
    "            print('heading_loss= ',np.mean(np.array(tl),axis=0)[4])\n",
    "            print('heading regression loss= ',np.mean(np.array(tl),axis=0)[5])\n",
    "            print('heading accuracy= ',np.mean(np.array(tl),axis=0)[6])\n",
    "            print('corner_dist= ',np.mean(np.array(tl),axis=0)[7])\n",
    "            print('iou 0.4= ',len(list(filter(lambda x: x>0.4, ioulist)))/len(ioulist))\n",
    "            print('iou 0.45= ',len(list(filter(lambda x: x>0.45, ioulist)))/len(ioulist))\n",
    "            print('iou 0.5= ',len(list(filter(lambda x: x>0.5, ioulist)))/len(ioulist))"
   ]
  },
  {
   "cell_type": "code",
   "execution_count": null,
   "metadata": {},
   "outputs": [],
   "source": [
    "# 0.6707602339181287\n",
    "#0.6713\n",
    "#66.6 max: 67.04\n",
    "#67.4 max: 67.8"
   ]
  },
  {
   "cell_type": "code",
   "execution_count": null,
   "metadata": {},
   "outputs": [],
   "source": [
    "saver = tf.train.Saver()\n",
    "with tf.Session(config=tf.ConfigProto(allow_soft_placement=True, log_device_placement=True)) as sess:\n",
    "\n",
    "    sess.run(tf.global_variables_initializer())\n",
    "   \n",
    "    \n",
    "    saver.restore(sess, \"./checkpoints/model_new_labels_pointwiseIOU_5_10000.ckpt\")\n",
    "    for epoch in range(30):\n",
    "        ioulist=[]\n",
    "        tl=[]\n",
    "        print('**************************************************************************************')\n",
    "        i=0\n",
    "        batchsize=5\n",
    "        pedc=0\n",
    "        while(i<(extras.shape[0])):\n",
    "            pedc+=1\n",
    "            \n",
    "            \n",
    "            out_l =sess.run([train_op,pred_corners,corners_labels,loss, stage1_center_loss, center_loss, size_loss,\\\n",
    "                             headingclass_loss,headingreg_loss,headingclassaccuracy ,corners_dist],\\\n",
    "                            feed_dict={lr: 1e-3/(epoch+1),sel_win:class_windows[i:i+batchsize,:,:3],\\\n",
    "                                       center_reglabel:extrascenter[i:i+batchsize,:],\\\n",
    "                                                            size_reglabel:extrassize[i:i+batchsize,:],\\\n",
    "                                                            heading_class_label:extrasheadingl[i:i+batchsize,:],\\\n",
    "                                                            is_training: True,runfortest:False, heading_reglabel:extras_headingres[i:i+batchsize,:]})\n",
    "            pred_c=out_l[1]\n",
    "            label_c=out_l[2]\n",
    "            \n",
    "            #print([box3d_iou(pred_c[x],label_c[x]) for x in range(batchsize)])\n",
    "            ioulist+=[box3d_iou(pred_c[x],label_c[x]) for x in range(batchsize)]\n",
    "            \n",
    "            tl.append(out_l[3:])\n",
    "            #print(out_l[2:])\n",
    "            #print('epoch= ',epoch,'pedc= ',pedc,'loss= ',out_l[0],'average loss= ',sum(tl)/len(tl))\n",
    "            #if pedc%100==0:\n",
    "            if pedc%100==0:\n",
    "                save_path = saver.save(sess, \"./checkpoints/endtoendday2_\"+str(epoch)+'_'+str(pedc)+\".ckpt\")\n",
    "\n",
    "                print('%%%%%%%%%%%%%%%%%%%%%%%%%%%%%%%%%%%%%%%%%%%%%%%%%')\n",
    "                print('epoch= ',epoch,'pedc= ',pedc)\n",
    "                print('average loss= ',np.mean(np.array(tl),axis=0)[0])\n",
    "                print('stage1_center_loss= ',np.mean(np.array(tl),axis=0)[1])\n",
    "                print('center_loss= ',np.mean(np.array(tl),axis=0)[2])\n",
    "                print('size_loss= ',np.mean(np.array(tl),axis=0)[3])\n",
    "                print('heading_loss= ',np.mean(np.array(tl),axis=0)[4])\n",
    "                print('heading regression loss= ',np.mean(np.array(tl),axis=0)[5])\n",
    "                print('heading accuracy= ',np.mean(np.array(tl),axis=0)[6])\n",
    "                print('corner_dist= ',np.mean(np.array(tl),axis=0)[7])\n",
    "                print('iou 0.3= ',len(list(filter(lambda x: x>0.3, ioulist)))/len(ioulist))\n",
    "                print('iou 0.5= ',len(list(filter(lambda x: x>0.5, ioulist)))/len(ioulist))\n",
    "                tl=[]\n",
    "                \n",
    "            i+=batchsize\n",
    "        it = 0\n",
    "        \n",
    "        ioulist_test=[]\n",
    "        tl_test=[]\n",
    "        while it<val_extras.shape[0]:\n",
    "            pedc+=1\n",
    "            \n",
    "            \n",
    "            out_l =sess.run([pred_corners,corners_labels,loss, stage1_center_loss, center_loss, size_loss,\\\n",
    "                             headingclass_loss,headingreg_loss,headingclassaccuracy ,corners_dist],\\\n",
    "                            feed_dict={lr: 1e-3/(epoch+1),sel_win:val_class_windows[it:it+batchsize,:,:3],\\\n",
    "                                       center_reglabel:val_extrascenter[it:it+batchsize,:],\\\n",
    "                                                            size_reglabel:val_extrassize[it:it+batchsize,:],\\\n",
    "                                                            heading_class_label:val_extrasheadingl[it:it+batchsize,:],\\\n",
    "                                                            is_training: True,runfortest:True, \\\n",
    "                                       heading_reglabel:val_extras_headingres[it:it+batchsize,:]})\n",
    "            pred_c=out_l[0]\n",
    "            label_c=out_l[1]\n",
    "            \n",
    "            #print([box3d_iou(pred_c[x],label_c[x]) for x in range(batchsize)])\n",
    "            ioulist_test+=[box3d_iou(pred_c[x],label_c[x]) for x in range(batchsize)]\n",
    "            \n",
    "            tl_test.append(out_l[2:])\n",
    "            #print(out_l[2:])\n",
    "            #print('epoch= ',epoch,'pedc= ',pedc,'loss= ',out_l[0],'average loss= ',sum(tl)/len(tl))\n",
    "            #if pedc%100==0:\n",
    "            if pedc%100==0:\n",
    "                #save_path = saver.save(sess, \"./checkpoints/endtoendday2_\"+str(epoch)+'_'+str(pedc)+\".ckpt\")\n",
    "                print('&&&&&&&&&&&&&&&&&&&&&&&&&&&&&&&&&& TEST RESULTS&&&&&&&&&&&&&&&&&&&&&&&&&&')\n",
    "                print('%%%%%%%%%%%%%%%%%%%%%%%%%%%%%%%%%%%%%%%%%%%%%%%%%')\n",
    "                print('epoch= ',epoch,'pedc= ',pedc)\n",
    "                print('average loss= ',np.mean(np.array(tl_test),axis=0)[0])\n",
    "                print('stage1_center_loss= ',np.mean(np.array(tl_test),axis=0)[1])\n",
    "                print('center_loss= ',np.mean(np.array(tl_test),axis=0)[2])\n",
    "                print('size_loss= ',np.mean(np.array(tl_test),axis=0)[3])\n",
    "                print('heading_loss= ',np.mean(np.array(tl_test),axis=0)[4])\n",
    "                print('heading regression loss= ',np.mean(np.array(tl_test),axis=0)[5])\n",
    "                print('heading accuracy= ',np.mean(np.array(tl_test),axis=0)[6])\n",
    "                print('corner_dist= ',np.mean(np.array(tl_test),axis=0)[7])\n",
    "                print('iou 0.3= ',len(list(filter(lambda x: x>0.3, ioulist_test)))/len(ioulist_test))\n",
    "                print('iou 0.5= ',len(list(filter(lambda x: x>0.5, ioulist_test)))/len(ioulist_test))\n",
    "                tl_test=[]\n",
    "            it += batchsize"
   ]
  },
  {
   "cell_type": "code",
   "execution_count": null,
   "metadata": {},
   "outputs": [],
   "source": []
  },
  {
   "cell_type": "code",
   "execution_count": null,
   "metadata": {},
   "outputs": [],
   "source": [
    "type(residual_regress_xyzlabels),type(residual_regress_lbhlabels),type(heading_class_num)"
   ]
  },
  {
   "cell_type": "code",
   "execution_count": null,
   "metadata": {},
   "outputs": [],
   "source": [
    "# voxels_train_np=[i.get_feature_vector() for i in voxels_train]"
   ]
  },
  {
   "cell_type": "code",
   "execution_count": null,
   "metadata": {},
   "outputs": [],
   "source": [
    "obj_voxels=[]\n",
    "#obj_centroids=[]\n",
    "#obj_centroids_unique=[]\n",
    "#obj_center_label=[]\n",
    "#obj_corners=[]\n",
    "obj_lbh=[]\n",
    "obj_extras=[]\n",
    "#obj_extras=[]\n",
    "#obj_heading=[]\n",
    "for i in range(len(voxels_train)):\n",
    "    try :\n",
    "        obj_voxels.append(voxels_train[i].get_feature_vector(mode='density'))\n",
    "        #obj_centroids.append(centroids[i])\n",
    "        #obj_centroids_unique.append(centroids_unique[i])\n",
    "        #obj_center_label.append(center_label[i])\n",
    "        #obj_corners.append(corners[i])\n",
    "        obj_lbh.append(lbh[i])\n",
    "        obj_extras.append(extras[i])\n",
    "        #obj_extras.append(extras[i])\n",
    "        #obj_heading.append(heading[i])\n",
    "    except IndexError:\n",
    "        pass\n",
    "    except ValueError:\n",
    "        pass"
   ]
  },
  {
   "cell_type": "code",
   "execution_count": null,
   "metadata": {},
   "outputs": [],
   "source": [
    "np.save('./Windows/voxels_denstrue2',np.array(obj_voxels), allow_pickle=True)\n",
    "\n",
    "np.save('./Windows/lbh_denstrue2',np.array(obj_lbh) , allow_pickle=True)"
   ]
  },
  {
   "cell_type": "code",
   "execution_count": null,
   "metadata": {},
   "outputs": [],
   "source": [
    "\n",
    "lbh=np.load('./Windows/lbh_jtrue2.npy', allow_pickle=True)\n",
    "voxels_train=np.load('./Windows/voxels_jtrue2.npy', allow_pickle=True)"
   ]
  },
  {
   "cell_type": "code",
   "execution_count": null,
   "metadata": {},
   "outputs": [],
   "source": [
    "del voxels_train\n",
    "del lbh"
   ]
  },
  {
   "cell_type": "code",
   "execution_count": null,
   "metadata": {},
   "outputs": [],
   "source": [
    "len(obj_voxels),len(obj_centroids),len(obj_centroids_unique),len(obj_center_label),len(obj_corners),len(obj_lbh),len(obj_extras),len(obj_heading)"
   ]
  },
  {
   "cell_type": "code",
   "execution_count": null,
   "metadata": {
    "scrolled": true
   },
   "outputs": [],
   "source": [
    "#check the distances\n",
    "\n",
    "import matplotlib.pyplot as plt\n",
    "print(np.sqrt(np.sum((np.array(obj_center_label)-np.array(obj_centroids)[:,:3])**2, axis=1)))\n",
    "print(np.sqrt(np.sum((np.array(obj_center_label)-np.array(obj_centroids)[:,:3])**2, axis=1)))\n",
    "print(np.mean(np.sqrt(np.sum((np.array(obj_center_label)-np.array(obj_centroids)[:,:3])**2, axis=1))))\n",
    "plt.hist(np.sqrt(np.sum((np.array(obj_center_label)-np.array(obj_centroids)[:,:3])**2, axis=1)), bins=100)"
   ]
  },
  {
   "cell_type": "code",
   "execution_count": null,
   "metadata": {
    "scrolled": true
   },
   "outputs": [],
   "source": [
    "#check the distances\n",
    "\n",
    "import matplotlib.pyplot as plt\n",
    "print(np.sqrt(np.sum((np.array(obj_center_label)-np.array(obj_centroids_unique)[:,:3])**2, axis=1)))\n",
    "print(np.sqrt(np.sum((np.array(obj_center_label)-np.array(obj_centroids_unique)[:,:3])**2, axis=1)))\n",
    "print(np.mean(np.sqrt(np.sum((np.array(obj_center_label)-np.array(obj_centroids_unique)[:,:3])**2, axis=1))))\n",
    "plt.hist(np.sqrt(np.sum((np.array(obj_center_label)-np.array(obj_centroids_unique)[:,:3])**2, axis=1)), bins=20)"
   ]
  },
  {
   "cell_type": "code",
   "execution_count": null,
   "metadata": {},
   "outputs": [],
   "source": [
    "# for i in range(len(voxels_train)):\n",
    "#     if i not in [289,315,431,728,746,1283,1543,1865,2128,3485,3753,4429,4928,5048,5432,5907,6191,6999,7100,7574,\\\n",
    "#                 7687,9404,10179]:\n",
    "#         voxels_train[i].get_feature_vector()"
   ]
  },
  {
   "cell_type": "code",
   "execution_count": null,
   "metadata": {},
   "outputs": [],
   "source": [
    "# obj_voxels = []\n",
    "# center_label = []\n",
    "# centroids= []\n",
    "# print(np.array(point_cld[0]).shape)\n",
    "# for i in range(len(voxels_train)):\n",
    "#     if i not in [289,315,431,728,746,1283,1543,1865,2128,3485,3753,4429,4928,5048,5432,5907,6191,6999,7100,7574,\\\n",
    "#                 7687,9404,10179]:\n",
    "#         obj_voxels.append(voxels_train[i].get_feature_vector())\n",
    "#         #center_label.append(TRAIN_DATASET.get_center_view_box3d_center(trix[i]))\n",
    "#         #centroids.append(np.mean(np.unique(np.array(point_cld[i]),axis=0), axis=0))"
   ]
  },
  {
   "cell_type": "code",
   "execution_count": null,
   "metadata": {},
   "outputs": [],
   "source": [
    "obj_voxels_modified = []\n",
    "#center_label_modified = []\n",
    "#centroids_modified = []\n",
    "#obj_corners_modified=[]\n",
    "obj_lbh_modified=[]\n",
    "#obj_extras_modified=[]\n",
    "#obj_heading_modified=[]\n",
    "\n",
    "for i in range(len(obj_voxels)):\n",
    "    dist = np.sqrt(np.sum((np.array(obj_center_label[i])-np.array(obj_centroids)[i:i+1,:3])**2, axis=1))\n",
    "    if dist<1:\n",
    "        #print(dist)\n",
    "        obj_voxels_modified.append(obj_voxels[i])\n",
    "        center_label_modified.append(obj_center_label[i])\n",
    "        centroids_modified.append(obj_centroids[i])\n",
    "        obj_corners_modified.append(obj_corners[i])\n",
    "        obj_lbh_modified.append(obj_lbh[i])\n",
    "        obj_extras_modified.append(obj_extras[i])\n",
    "        obj_heading_modified.append(obj_heading[i])"
   ]
  },
  {
   "cell_type": "code",
   "execution_count": null,
   "metadata": {},
   "outputs": [],
   "source": [
    "len(obj_voxels_modified),len(center_label_modified),len(centroids_modified),len(obj_corners_modified),len(obj_lbh_modified),len(obj_extras_modified),len(obj_heading_modified)"
   ]
  },
  {
   "cell_type": "code",
   "execution_count": null,
   "metadata": {},
   "outputs": [],
   "source": [
    "max_x,max_y,max_z=0,0,0\n",
    "for v in obj_voxels:\n",
    "    max_x=max(max_x,v.shape[0])\n",
    "    max_y=max(max_y,v.shape[1])\n",
    "    max_z=max(max_z,v.shape[2])\n",
    "print( max_x,max_y,max_z)"
   ]
  },
  {
   "cell_type": "code",
   "execution_count": null,
   "metadata": {
    "scrolled": true
   },
   "outputs": [],
   "source": [
    "pad_shape=[30,45,20]\n",
    "padded_voxels=[]\n",
    "ccc=0\n",
    "for v in obj_voxels:\n",
    "    ccc+=1\n",
    "    print(ccc)\n",
    "    dx=pad_shape[0]-v.shape[0]\n",
    "    dy=pad_shape[1]-v.shape[1]\n",
    "    dz=pad_shape[2]-v.shape[2]\n",
    "    npad=((dx//2,dx-dx//2),(dy//2,dy-dy//2),(dz//2,dz-dz//2))\n",
    "    padded_voxels.append(np.pad(v,pad_width=npad,mode='constant',constant_values=0))"
   ]
  },
  {
   "cell_type": "code",
   "execution_count": null,
   "metadata": {},
   "outputs": [],
   "source": [
    "np.save('./Windows/padded_voxels_densetrue',np.array(padded_voxels), allow_pickle=True)\n",
    "np.save('./Windows/fulllbh_densetrue',np.array(obj_lbh) , allow_pickle=True)\n",
    "np.save('./Windows/extras_densetrue',np.array(obj_extras) , allow_pickle=True)\n",
    "\n"
   ]
  },
  {
   "cell_type": "code",
   "execution_count": null,
   "metadata": {},
   "outputs": [],
   "source": [
    "v=np.load('./Windows/lbh_densetrue.npy', allow_pickle=True)\n",
    "v=np.load('./Windows/padded_voxels_densetrue.npy', allow_pickle=True)\n",
    "v=np.load('./Windows/extras_densetrue.npy', allow_pickle=True)"
   ]
  },
  {
   "cell_type": "code",
   "execution_count": null,
   "metadata": {},
   "outputs": [],
   "source": [
    "obj_corners_modified[0]"
   ]
  },
  {
   "cell_type": "code",
   "execution_count": null,
   "metadata": {},
   "outputs": [],
   "source": [
    "obj_corners_modified[0][:,1].max()"
   ]
  },
  {
   "cell_type": "code",
   "execution_count": null,
   "metadata": {},
   "outputs": [],
   "source": [
    "list(np.unique(obj_corners_modified[0][:,1],1)[1])"
   ]
  },
  {
   "cell_type": "code",
   "execution_count": null,
   "metadata": {},
   "outputs": [],
   "source": [
    "testi=[]\n",
    "for i in range(100):\n",
    "    if TRAIN_DATASET.__getitem__(trix[i])[-1][1]:\n",
    "        testi.append(i) "
   ]
  },
  {
   "cell_type": "code",
   "execution_count": null,
   "metadata": {},
   "outputs": [],
   "source": [
    "TRAIN_DATASET.__getitem__(trix[4])[5:7]"
   ]
  },
  {
   "cell_type": "code",
   "execution_count": null,
   "metadata": {},
   "outputs": [],
   "source": [
    "for i in testi:\n",
    "    print(provider.class2size(TRAIN_DATASET.__getitem__(trix[i])[5],TRAIN_DATASET.__getitem__(trix[i])[6]))"
   ]
  },
  {
   "cell_type": "code",
   "execution_count": null,
   "metadata": {},
   "outputs": [],
   "source": [
    "TRAIN_DATASET.get_center_view_box3d(trix[4])"
   ]
  },
  {
   "cell_type": "code",
   "execution_count": null,
   "metadata": {},
   "outputs": [],
   "source": [
    "obj_corners_modified[0]"
   ]
  },
  {
   "cell_type": "code",
   "execution_count": null,
   "metadata": {},
   "outputs": [],
   "source": [
    "for c in obj_corners_modified[:len(testi)]:\n",
    "    print(finddim(c))"
   ]
  },
  {
   "cell_type": "code",
   "execution_count": null,
   "metadata": {},
   "outputs": [],
   "source": [
    "def finddim(corners):\n",
    "    c=np.copy(corners)\n",
    "    height=c[:,1].max()-c[:,1].min()\n",
    "    fourp=np.unique(np.delete(c,1,1),axis=0)\n",
    "    point1=fourp[0]\n",
    "    d=[]\n",
    "    for point2 in fourp[1:]:\n",
    "        d.append(np.linalg.norm(point1-point2))\n",
    "    d=sorted(d)\n",
    "    breadth=d[0]\n",
    "    length=d[1]\n",
    "    return np.array([length,breadth,height])\n",
    "lbh=[]\n",
    "for c in obj_corners_modified:\n",
    "    lbh.append(finddim(c))"
   ]
  },
  {
   "cell_type": "code",
   "execution_count": null,
   "metadata": {},
   "outputs": [],
   "source": [
    "residual_centers=[]\n",
    "\n",
    "for i in range(len(centroids_modified)):\n",
    "    residual_centers.append(center_label_modified[i]-np.array(centroids_modified)[i,:3])\n",
    "    "
   ]
  },
  {
   "cell_type": "code",
   "execution_count": null,
   "metadata": {},
   "outputs": [],
   "source": [
    "for residue in residual_centers:\n",
    "    if np.sqrt(np.sum(residue**2))>1:\n",
    "        print('ERROR')"
   ]
  },
  {
   "cell_type": "code",
   "execution_count": null,
   "metadata": {},
   "outputs": [],
   "source": [
    "np.save('./Windows/centers',center_label_modified, allow_pickle=True)\n",
    "np.save('./Windows/centroids',centroids_modified , allow_pickle=True)\n",
    "np.save('./Windows/corners',obj_corners_modified, allow_pickle=True)\n",
    "np.save('./Windows/lbh',obj_lbh_modified, allow_pickle=True)\n",
    "np.save('./Windows/extras',obj_extras_modified, allow_pickle=True)\n",
    "np.save('./Windows/heading_angle',obj_heading_modified, allow_pickle=True)\n",
    "np.save('./Windows/res_centerlabels', residual_centers, allow_pickle=True)\n",
    "np.save('./Windows/voxels', padded_voxels, allow_pickle=True)"
   ]
  },
  {
   "cell_type": "code",
   "execution_count": null,
   "metadata": {},
   "outputs": [],
   "source": [
    "plt.hist(rdist,5)"
   ]
  },
  {
   "cell_type": "code",
   "execution_count": null,
   "metadata": {},
   "outputs": [],
   "source": [
    "# np.save('./Windows/voxels', padded_voxels, allow_pickle=True)\n",
    "# np.save('./Windows/centerlabels', residual_centers, allow_pickle=True)\n",
    "# np.save('./Windows/lbh', lbh, allow_pickle=True)\n",
    "# np.save('./Windows/corners', obj_corners_modified, allow_pickle=True)"
   ]
  },
  {
   "cell_type": "code",
   "execution_count": null,
   "metadata": {},
   "outputs": [],
   "source": [
    "for v in padded_voxels:\n",
    "    print(v.shape)"
   ]
  },
  {
   "cell_type": "code",
   "execution_count": null,
   "metadata": {},
   "outputs": [],
   "source": [
    "#np.linalg.norm(np.array(center_label[:1]), np.array(centroids)[:1,:3], axis=1)\n",
    "print(center_label[:1])\n",
    "print(np.array(centroids)[:1,:3])\n",
    "print(np.sum((np.array(center_label[:1])-np.array(centroids)[:1,:3])**2))"
   ]
  },
  {
   "cell_type": "code",
   "execution_count": null,
   "metadata": {},
   "outputs": [],
   "source": [
    "a,b,c,d,e,f,g,h,i = TRAIN_DATASET.__getitem__(100)\n",
    "print(c)\n",
    "print(TRAIN_DATASET.get_center_view_box3d_center(100))"
   ]
  },
  {
   "cell_type": "code",
   "execution_count": null,
   "metadata": {
    "scrolled": true
   },
   "outputs": [],
   "source": [
    "np.unique(point_cld[i],axis=0)"
   ]
  },
  {
   "cell_type": "code",
   "execution_count": null,
   "metadata": {},
   "outputs": [],
   "source": [
    "rnge= []\n",
    "for i in range(len(point_cld)):\n",
    "    rnge.append(np.max(np.array(point_cld[i]), axis=0)-np.min(np.array(point_cld[i]), axis=0))\n",
    "print(len(rnge))"
   ]
  },
  {
   "cell_type": "code",
   "execution_count": null,
   "metadata": {},
   "outputs": [],
   "source": [
    "np.max(np.array(rnge), axis=0)"
   ]
  },
  {
   "cell_type": "code",
   "execution_count": null,
   "metadata": {},
   "outputs": [],
   "source": [
    "np.min(np.array(point_cld[0])[:,2])"
   ]
  },
  {
   "cell_type": "code",
   "execution_count": null,
   "metadata": {},
   "outputs": [],
   "source": [
    "np.max(np.array(point_cld[0]), axis=0)"
   ]
  },
  {
   "cell_type": "code",
   "execution_count": null,
   "metadata": {},
   "outputs": [],
   "source": [
    "outliers = []\n",
    "for i in range(len(point_cld)):\n",
    "    o = np.max(np.array(point_cld[i])[:,2], axis=0)-np.min(np.array(point_cld[i])[:,2], axis=0)\n",
    "    if o>1.0:\n",
    "        outliers.append([i,o])\n",
    "print(len(outliers))"
   ]
  },
  {
   "cell_type": "code",
   "execution_count": null,
   "metadata": {},
   "outputs": [],
   "source": [
    "ex = 10\n",
    "print(voxels_train[ex].get_feature_vector().shape)\n",
    "plotFromVoxels(voxels_train[ex].get_feature_vector())"
   ]
  },
  {
   "cell_type": "code",
   "execution_count": null,
   "metadata": {},
   "outputs": [],
   "source": [
    "j= 0\n",
    "for i in range(1000):\n",
    "    #print(TRAIN_DATASET.type_list[trix[i]])\n",
    "    if TRAIN_DATASET.type_list[trix[i]]=='Pedestrian':\n",
    "        if j==60:\n",
    "            print(j)\n",
    "            print(i)\n",
    "            seg,a,b,c,d,e,f,g,h = TRAIN_DATASET[60]     \n",
    "            seg = pd.DataFrame(seg[:,:3])\n",
    "            seg.columns = ['x','y','z']\n",
    "            cloud = PyntCloud(seg)\n",
    "            cloud.plot()\n",
    "                \n",
    "            \n",
    "        j += 1\n",
    "ex  = 60\n",
    "seg,a,b,c,d,e,f,g,h = TRAIN_DATASET[trix[386]]\n",
    "print(seg.shape)                    \n",
    "seg = pd.DataFrame(seg[:,:3])\n",
    "seg.columns = ['x','y','z']\n",
    "cloud = PyntCloud(seg)\n",
    "cloud.plot()"
   ]
  },
  {
   "cell_type": "code",
   "execution_count": null,
   "metadata": {},
   "outputs": [],
   "source": []
  },
  {
   "cell_type": "code",
   "execution_count": null,
   "metadata": {},
   "outputs": [],
   "source": []
  },
  {
   "cell_type": "code",
   "execution_count": null,
   "metadata": {},
   "outputs": [],
   "source": []
  },
  {
   "cell_type": "code",
   "execution_count": null,
   "metadata": {},
   "outputs": [],
   "source": []
  },
  {
   "cell_type": "code",
   "execution_count": null,
   "metadata": {},
   "outputs": [],
   "source": []
  },
  {
   "cell_type": "code",
   "execution_count": null,
   "metadata": {},
   "outputs": [],
   "source": [
    "import sys\n",
    "import os\n",
    "\n",
    "import scipy.ndimage as nd\n",
    "import scipy.io as io\n",
    "import numpy as np\n",
    "import matplotlib.pyplot as plt\n",
    "import skimage.measure as sk\n",
    "\n",
    "from mpl_toolkits import mplot3d\n",
    "\n",
    "import trimesh\n",
    "from stl import mesh\n"
   ]
  },
  {
   "cell_type": "code",
   "execution_count": null,
   "metadata": {},
   "outputs": [],
   "source": [
    "def plotFromVF(vertices, faces):\n",
    "    input_vec = mesh.Mesh(np.zeros(faces.shape[0], dtype=mesh.Mesh.dtype))\n",
    "    for i, f in enumerate(faces):\n",
    "        for j in range(3):\n",
    "            input_vec.vectors[i][j] = vertices[f[j],:]\n",
    "    figure = plt.figure()\n",
    "    axes = mplot3d.Axes3D(figure)\n",
    "    axes.add_collection3d(mplot3d.art3d.Poly3DCollection(input_vec.vectors))\n",
    "    scale = input_vec.points.flatten(-1)\n",
    "    axes.auto_scale_xyz(scale, scale, scale)\n",
    "    plt.show()\n",
    "\n",
    "def plotFromVoxels(voxels):\n",
    "    #print(voxels.nonzero())\n",
    "    x,y,z = voxels.nonzero()\n",
    "    fig = plt.figure()\n",
    "    #ax = fig.add_subplot(111, projection='3d')\n",
    "    #ax.scatter( 0.05*x, z*0.05, -0.1*y, zdir='z', c= 'red', norm=0.05)\n",
    "    ax = fig.gca(projection='3d')\n",
    "    ax.voxels(0.05*voxels)\n",
    "    plt.show()\n",
    "\n",
    "def getVFByMarchingCubes(voxels, threshold=0.5):\n",
    "    #print(len(sk.marching_cubes(voxels, level=threshold)))\n",
    "    v, f, n, m =  sk.marching_cubes(voxels, level=threshold)\n",
    "    return v, f\n",
    "\n",
    "def plotMeshFromVoxels(voxels, threshold=0.5):\n",
    "    #print(getVFByMarchingCubes(voxels, threshold))\n",
    "    v,f = getVFByMarchingCubes(voxels, threshold)\n",
    "    plotFromVF(v,f)\n",
    "\n",
    "def plotVoxelVisdom(voxels, visdom, title):\n",
    "    v, f = getVFByMarchingCubes(voxels)\n",
    "    visdom.mesh(X=v, Y=f, opts=dict(opacity=0.5, title=title))"
   ]
  },
  {
   "cell_type": "code",
   "execution_count": null,
   "metadata": {},
   "outputs": [],
   "source": [
    "#plotFromVoxels(np.array([[[0,1,0],[0,0,0],[0,1,1]],[[1,1,1],[1,1,1],[0,1,1]]]))\n",
    "plotMeshFromVoxels(np.array([[[0,1,0],[0,0,0],[0,1,1]],[[1,1,1],[1,1,1],[0,1,1]]]))"
   ]
  },
  {
   "cell_type": "code",
   "execution_count": null,
   "metadata": {},
   "outputs": [],
   "source": [
    "voxelgrid_id = cloud.add_structure(\"voxelgrid\", size_x=0.05, size_y=0.05, size_z=0.05)"
   ]
  },
  {
   "cell_type": "code",
   "execution_count": null,
   "metadata": {},
   "outputs": [],
   "source": [
    "seg['z'].max()-seg['z'].min()"
   ]
  },
  {
   "cell_type": "code",
   "execution_count": null,
   "metadata": {},
   "outputs": [],
   "source": [
    "voxelgrid = cloud.structures[voxelgrid_id]"
   ]
  },
  {
   "cell_type": "code",
   "execution_count": null,
   "metadata": {},
   "outputs": [],
   "source": [
    "voxelgrid.get_feature_vector().shape"
   ]
  },
  {
   "cell_type": "code",
   "execution_count": null,
   "metadata": {
    "scrolled": false
   },
   "outputs": [],
   "source": [
    "seg.drop_duplicates()"
   ]
  },
  {
   "cell_type": "code",
   "execution_count": null,
   "metadata": {},
   "outputs": [],
   "source": []
  },
  {
   "cell_type": "code",
   "execution_count": null,
   "metadata": {},
   "outputs": [],
   "source": [
    "cloud.plot()"
   ]
  },
  {
   "cell_type": "code",
   "execution_count": null,
   "metadata": {},
   "outputs": [],
   "source": [
    "seg.isnull().any()"
   ]
  },
  {
   "cell_type": "code",
   "execution_count": null,
   "metadata": {},
   "outputs": [],
   "source": [
    "def pad_trunc_voxels():\n",
    "    for voxel in voxels_train:\n",
    "        dim=voxel.shape\n",
    "        temp=np.zeros((30,40,20))\n",
    "        temp\n",
    "            "
   ]
  },
  {
   "cell_type": "code",
   "execution_count": null,
   "metadata": {
    "scrolled": true
   },
   "outputs": [],
   "source": [
    "print(voxelgrid.get_feature_vector().shape)\n",
    "print(np.sum(voxelgrid.get_feature_vector()))\n",
    "print(voxelgrid.get_feature_vector())"
   ]
  },
  {
   "cell_type": "code",
   "execution_count": null,
   "metadata": {},
   "outputs": [],
   "source": [
    "voxelgrid.plot()"
   ]
  },
  {
   "cell_type": "code",
   "execution_count": null,
   "metadata": {},
   "outputs": [],
   "source": [
    "cloud.plot()"
   ]
  },
  {
   "cell_type": "code",
   "execution_count": null,
   "metadata": {},
   "outputs": [],
   "source": [
    "import datetime\n",
    "import logging\n",
    "from random import shuffle\n",
    "#logging.basicConfig(filename='run_1.log',level=logging.DEBUG)\n",
    "from tensorflow.python import debug as tf_debug\n",
    "print(datetime.datetime.now().strftime(\"%a, %d %B %Y %I:%M:%S\"))\n",
    "\n",
    "IOU_list = []\n",
    "saver = tf.train.Saver()\n",
    "trix=[cc for cc in range(TRAIN_DATASET.__len__())]\n",
    "shuffle(trix)\n",
    "prob = []\n",
    "with tf.Session(config=tf.ConfigProto(allow_soft_placement=True, log_device_placement=True)) as sess:\n",
    "    #sess=tf_debug.LocalCLIDebugWrapperSession(sess)\n",
    "    sess.run(tf.global_variables_initializer())\n",
    "    variables_names = [v.name for v in tf.trainable_variables()]\n",
    "    values = sess.run(variables_names)\n",
    "    for k, v in zip(variables_names, values):\n",
    "        print(\"Variable: \", k)\n",
    "        print(\"Shape: \", v.shape)\n",
    "    # uncomment this when we want to load the checkpoint model\n",
    "    saver.restore(sess, \"./checkpoints/model_new_labels_pointwiseIOU_5_10000.ckpt\")\n",
    "\n",
    "    \n",
    "    for j in range(6,15):   \n",
    "        total_tp=0\n",
    "        total_fp=0\n",
    "        total_tn=0\n",
    "        total_fn=0\n",
    "        total_tpnums = 0\n",
    "        total_fpnums = 0\n",
    "        total_fnnums = 0\n",
    "        \n",
    "        \n",
    "        print(datetime.datetime.now().strftime(\"%a, %d %B %Y %I:%M:%S\"))\n",
    "        \n",
    "        print('Epoch Number........................................',j)\n",
    "        pedc=0\n",
    "        \n",
    "        for i in trix:\n",
    "        #todo reformat code to have lists instead of many variable\n",
    "            if TRAIN_DATASET.type_list[i]=='Pedestrian':\n",
    "                pedc+=1\n",
    "                if pedc%500==0:\n",
    "                    total_tp=0\n",
    "                    total_fp=0\n",
    "                    total_tn=0\n",
    "                    total_fn=0\n",
    "                    total_tpnums = 0\n",
    "                    total_fpnums = 0\n",
    "                    total_fnnums = 0\n",
    "                point_set,labels,a,b,c,d,e,f,cls = TRAIN_DATASET.__getitem__(i)\n",
    "\n",
    "                index = np.argsort(point_set[:,2])\n",
    "                point_set = point_set[index]\n",
    "                labels = labels[index]\n",
    "\n",
    "                corners_gt = TRAIN_DATASET.get_center_view_box3d(i)\n",
    "                \n",
    " \n",
    "                s5,e5,l = indices(1.0,0.1,point_set,labels, corners_gt)\n",
    "        \n",
    "                #l1 = (l1>=0.6)\n",
    "                \n",
    "                print('Label shape', l.shape)\n",
    "\n",
    "\n",
    "                if s5.size :#and s2.size and s3.size and s4.size and s1.size:\n",
    "\n",
    "                    ind_5 = get_list(s5,e5, num_points=512)\n",
    "\n",
    "\n",
    "\n",
    "                    point_set = np.expand_dims(point_set, axis=0)\n",
    "                        \n",
    "                    _, x,tpos,fpos,tneg,fneg, tpnums, maxind =sess.run([train_op, loss,tp,fp,tn,fn, tp_num, maxi],feed_dict={idx_5:ind_5,\\\n",
    "                                                               label_out_5: l.astype(np.int32),\\\n",
    "                                                               inputs:point_set, is_training: True})\n",
    "                    total_tp+=tpos\n",
    "                    total_fp+=fpos\n",
    "                    total_tn+=tneg\n",
    "                    total_fn+=fneg\n",
    "                    total_tpnums+= tpnums\n",
    "                    total_fpnums+= (1-tpnums)\n",
    "                    total_fnnums+= (1-tpnums)\n",
    "                    ind_5[maxind]\n",
    "                    print('----------------------------------------------------------------------------------')\n",
    "                    print('Epoch ', j , 'Loss for the current example ',i,' = ', x,'pedc = ',pedc)\n",
    "                    #logging.info('Loss for the current example ',i,' = ', x)\n",
    "                    print('Metrics for current example: TP=',tpos,' FP=',fpos,' TN=',tneg,' FN=',fneg)\n",
    "                    #logging.info('Metrics for current example: TP=',tpos,' FP=',fpos,' TN=',tneg,' FN=',fneg)  # will not print anything\n",
    "                    #print('Cumulative metrics: TP=',total_tp,' FP=',total_fp,' TN=',total_tn,' FN=',total_fn)\n",
    "                    print('Cumulative metrics: Precision = ',(total_tp*1.0)/(total_tp+total_fp),\\\n",
    "                          ' Recall = ',(total_tp*1.0)/(total_tp+total_fn))\n",
    "                    #logging.info('Cumulative metrics: Precision = ',(total_tp*1.0)/(total_tp+total_fp),\\\n",
    "                    #      ' Recall = ',(total_tp*1.0)/(total_tp+total_fn))\n",
    "                    print('Single metrics: Precision = ',(total_tpnums*1.0)/(total_tpnums+total_fpnums),\\\n",
    "                          ' Recall = ',(total_tpnums*1.0)/(total_tpnums+total_fnnums))\n",
    "                    print('----------------------------------------------------------------------------------')\n",
    "                    \n",
    "                    if(pedc%5000==0):\n",
    "                        save_path = saver.save(sess, \"./checkpoints/model_new_labels_pointwiseIOU_\"+str(j)+'_'+str(pedc)+\".ckpt\")\n",
    "                    \n",
    "\n",
    "                #print(c)\n",
    "                #print(n)\n",
    "            #i += 1\n",
    "        #-----------------------------------------------------------------------------------------------#\n",
    "        print('&&&&&&&&&&&&&&&&&&&&&&&&&&&&&&&&&&&&&&&&&&&&&&&&&&&&&&&&&&&&&&&&&&&&&&&&&&&&&&&&&&')\n",
    "        k = 0\n",
    "        Vtotal_tp=0\n",
    "        Vtotal_fp=0\n",
    "        Vtotal_tn=0\n",
    "        Vtotal_fn=0\n",
    "        Vtotal_tpnums = 0\n",
    "        Vtotal_fpnums = 0\n",
    "        Vtotal_fnnums = 0\n",
    "        while k<len(VAL_DATASET):\n",
    "        #todo reformat code to have lists instead of many variable\n",
    "\n",
    "            if VAL_DATASET.type_list[k]=='Pedestrian':\n",
    "\n",
    "                point_set,labels,a,b,c,d,e,f,cls = VAL_DATASET.__getitem__(k)\n",
    "\n",
    "                index = np.argsort(point_set[:,2])\n",
    "                point_set = point_set[index]\n",
    "                labels = labels[index]\n",
    "\n",
    "                \n",
    "                corners_gt = VAL_DATASET.get_center_view_box3d(k)\n",
    "                \n",
    "                #print(point_set.shape)\n",
    "\n",
    "                s5,e5,l = indices(1.0,0.1,point_set,labels, corners_gt)\n",
    "                \n",
    "                #l1 = l1>0.5\n",
    "\n",
    "#                 s1, e1, l1 = indices(k, 1.1, 0.2, 'val')\n",
    "\n",
    "#                 s2, e2, l2 = indices(k, 1.3, 0.2, 'val')\n",
    "\n",
    "#                 s3, e3, l3 = indices(k, 0.7, 0.1, 'val')\n",
    "\n",
    "#                 s4, e4, l4 = indices(k, 0.5, 0.1, 'val')\n",
    "\n",
    "                if s5.size :#and s2.size and s3.size and s4.size and s1.size:\n",
    "\n",
    "                    ind_5 = get_list(s5,e5, num_points=512)\n",
    "\n",
    "#                     ind_1 = get_list(s1,e1, num_points=512)\n",
    "\n",
    "#                     ind_2 = get_list(s2,e2, num_points=512)\n",
    "\n",
    "#                     ind_3 = get_list(s3,e3, num_points=512)\n",
    "\n",
    "#                     ind_4 = get_list(s4,e4, num_points=512)\n",
    "\n",
    "#                     t_windows=s1.shape[0]+s2.shape[0]+s3.shape[0]+s4.shape[0]+s5.shape[0]\n",
    "\n",
    "                    point_set = np.expand_dims(point_set, axis=0)\n",
    "                    print(Vtotal_tp)\n",
    "                    x,tpos,fpos,tneg,fneg, tp_nums, maxind =sess.run([loss,tp,fp,tn,fn, tp_num, maxi],feed_dict={idx_5:ind_5, \\\n",
    "                                                               label_out_5: l.astype(np.int32), inputs:point_set, is_training: True})\n",
    "\n",
    "\n",
    "                    #window_points = ind_5[maxind]\n",
    "\n",
    "                    #window_points = point_set[0,ind_5[maxind].reshape((-1))][:,:3]\n",
    "                    #min_x, min_y, min_z = np.min(window_points,axis=0)\n",
    "                    #max_x, max_y, max_z = np.max(window_points,axis=0)\n",
    "                    #corners = [[min_x,max_y,max_z],[min_x,max_y,min_z],[max_x,max_y,min_z],[max_x,max_y,max_z],\\\n",
    "                    #           [min_x,min_y,max_z],[min_x,min_y,min_z],[max_x,min_y,min_z],[max_x,min_y,max_z]]\n",
    "                    #corners=np.array(corners)\n",
    "                    #corners_gt = VAL_DATASET.get_center_view_box3d(k)\n",
    "                    #IOU, IOU_2D, inter, inter_vol = box_util.box3d_iou(corners, corners_gt)\n",
    "                    #print('IOUUUUUUUUUUUUUUUUUUUUUUUUUUUUUUUUUUUUUUUUUUUUUUUUUUUUUUUUUUUUUUU')\n",
    "                    #print(IOU, IOU_2D, inter, inter_vol)\n",
    "                    #IOU_list.append([IOU, IOU_2D, inter, inter_vol, k])\n",
    "                    #if inter>0.4:\n",
    "                    #    c += 1\n",
    "                    #    if inter>0.5:\n",
    "                    #        c1 += 1\n",
    "                    #if inter_vol>0.4:\n",
    "                    #    c2 += 1\n",
    "                    #    if inter_vol>0.5:\n",
    "                    #        c3 +=1 \n",
    "\n",
    "                    print(Vtotal_tp)\n",
    "                    Vtotal_tp +=tpos\n",
    "                    Vtotal_fp +=fpos\n",
    "                    Vtotal_tn +=tneg\n",
    "                    Vtotal_fn +=fneg\n",
    "                    Vtotal_tpnums+= tp_nums\n",
    "                    Vtotal_fpnums+= (1-tp_nums)\n",
    "                    Vtotal_fnnums+= (1-tp_nums)\n",
    "                    print('&&&&&&&&&&&&&&&&&&&&&&&&&&&&&&&&&&&&&&&&&&&&&&&&&&&&&&&&&&&&&&&&&&&&&&&&&&&&&&&&&&&&&&&&&&&&&&&&&&&')\n",
    "                    print('Epoch ', j , 'Loss for the current example ',k,' = ', x)\n",
    "                    #logging.info('Loss for the current example ',i,' = ', x)\n",
    "                    print('Metrics for current example: TP=',tpos,' FP=',fpos,' TN=',tneg,' FN=',fneg)\n",
    "                    #logging.info('Metrics for current example: TP=',tpos,' FP=',fpos,' TN=',tneg,' FN=',fneg)  # will not print anything\n",
    "                    #print('Cumulative metrics: TP=',total_tp,' FP=',total_fp,' TN=',total_tn,' FN=',total_fn)\n",
    "                    print('Cumulative metrics: Precision = ',(Vtotal_tp*1.0)/(Vtotal_tp+Vtotal_fp),\\\n",
    "                          ' Recall = ',(Vtotal_tp*1.0)/(Vtotal_tp+Vtotal_fn))\n",
    "\n",
    "                    print('Single metrics: Precision = ',(Vtotal_tpnums*1.0)/(Vtotal_tpnums+Vtotal_fpnums),\\\n",
    "                          ' Recall = ',(Vtotal_tpnums*1.0)/(Vtotal_tpnums+Vtotal_fnnums))\n",
    "                    #logging.info('Cumulative metrics: Precision = ',(Vtotal_tp*1.0)/(Vtotal_tp+Vtotal_fp),\\\n",
    "                    #      ' Recall = ',(Vtotal_tp*1.0)/(Vtotal_tp+Vtotal_fn))\n",
    "                    print('&&&&&&&&&&&&&&&&&&&&&&&&&&&&&&&&&&&&&&&&&&&&&&&&&&&&&&&&&&&&&&&&&&&&&&&&&&&&&&&&&&&&&&&&&&&&&&&&&&&')\n",
    "\n",
    "            k += 1\n",
    "\n",
    "        #----------------------------------------------------------------------------------------------#\n",
    "#         prob = sess.run([sig],feed_dict={idx_5:ind_5, idx_1:ind_1, idx_2:ind_2, idx_3:ind_3, idx_4:ind_4,\\\n",
    "#                                                        label_out_5: l5.astype(np.int32), label_out_1: l1.astype(np.int32),\\\n",
    "#                                                        label_out_2: l2.astype(np.int32), label_out_3: l3.astype(np.int32),\\\n",
    "#                                                        label_out_4: l4.astype(np.int32), inputs:point_set,  is_training: False})\n",
    "#         print(prob)\n",
    "        print(ind_5)\n",
    "        print(label_out_5)\n",
    "        prob = sess.run([sig],feed_dict={idx_5:ind_5,  \\\n",
    "                                                       label_out_5: l.astype(np.int32), inputs:point_set,  is_training: True})\n",
    "        print(prob)\n",
    "print(datetime.datetime.now().strftime(\"%a, %d %B %Y %I:%M:%S\") )"
   ]
  },
  {
   "cell_type": "code",
   "execution_count": null,
   "metadata": {},
   "outputs": [],
   "source": [
    "n = np.random.rand(31,26,12)\n",
    "padded_n=np.zeros((40,30,20))\n",
    "padded_n[:min(n.shape[0],40),:min(n.shape[1],30),:min(n.shape[2],20)]=n\n"
   ]
  },
  {
   "cell_type": "code",
   "execution_count": null,
   "metadata": {},
   "outputs": [],
   "source": [
    "inp=tf.placeholder(tf.float32,shhape=(1,30,45,20))\n",
    "\n",
    "conv3d1=tf_util.conv3d(inp,num_output_channels=64,kernel_size=[3,3,3],scope='convr1', is_training = True)\n",
    "conv3d2=tf_util.conv3d(conv3d1,num_output_channels=128,kernel_size=[3,3,3],scope='convr2', is_training = True)\n",
    "conv3d3=tf_util.conv3d(conv3d2,num_output_channels=256,kernel_size=[3,3,3],scope='convr3', is_training = True)\n",
    "\n",
    "dense=conv2d(conv3d2,num_output_channels=30,kernel_size=[40,40,30],scope='dense1r', is_training = True)\n",
    "out=conv2d(dense,num_output_channels=2,kernel_size=[1,1,30],scope='dense2r', is_training = True)"
   ]
  },
  {
   "cell_type": "code",
   "execution_count": null,
   "metadata": {},
   "outputs": [],
   "source": []
  },
  {
   "cell_type": "code",
   "execution_count": null,
   "metadata": {},
   "outputs": [],
   "source": []
  },
  {
   "cell_type": "code",
   "execution_count": null,
   "metadata": {},
   "outputs": [],
   "source": []
  },
  {
   "cell_type": "code",
   "execution_count": null,
   "metadata": {},
   "outputs": [],
   "source": []
  },
  {
   "cell_type": "code",
   "execution_count": null,
   "metadata": {},
   "outputs": [],
   "source": []
  },
  {
   "cell_type": "code",
   "execution_count": null,
   "metadata": {},
   "outputs": [],
   "source": []
  },
  {
   "cell_type": "code",
   "execution_count": null,
   "metadata": {},
   "outputs": [],
   "source": []
  },
  {
   "cell_type": "code",
   "execution_count": null,
   "metadata": {},
   "outputs": [],
   "source": []
  },
  {
   "cell_type": "code",
   "execution_count": null,
   "metadata": {},
   "outputs": [],
   "source": []
  },
  {
   "cell_type": "code",
   "execution_count": null,
   "metadata": {},
   "outputs": [],
   "source": []
  },
  {
   "cell_type": "code",
   "execution_count": null,
   "metadata": {},
   "outputs": [],
   "source": []
  },
  {
   "cell_type": "code",
   "execution_count": null,
   "metadata": {},
   "outputs": [],
   "source": []
  },
  {
   "cell_type": "code",
   "execution_count": null,
   "metadata": {},
   "outputs": [],
   "source": []
  },
  {
   "cell_type": "code",
   "execution_count": null,
   "metadata": {},
   "outputs": [],
   "source": []
  },
  {
   "cell_type": "code",
   "execution_count": null,
   "metadata": {},
   "outputs": [],
   "source": []
  },
  {
   "cell_type": "code",
   "execution_count": null,
   "metadata": {},
   "outputs": [],
   "source": []
  },
  {
   "cell_type": "code",
   "execution_count": null,
   "metadata": {},
   "outputs": [],
   "source": []
  },
  {
   "cell_type": "code",
   "execution_count": null,
   "metadata": {},
   "outputs": [],
   "source": []
  },
  {
   "cell_type": "code",
   "execution_count": null,
   "metadata": {},
   "outputs": [],
   "source": []
  },
  {
   "cell_type": "code",
   "execution_count": null,
   "metadata": {},
   "outputs": [],
   "source": []
  },
  {
   "cell_type": "code",
   "execution_count": null,
   "metadata": {},
   "outputs": [],
   "source": []
  },
  {
   "cell_type": "code",
   "execution_count": null,
   "metadata": {},
   "outputs": [],
   "source": []
  },
  {
   "cell_type": "code",
   "execution_count": null,
   "metadata": {},
   "outputs": [],
   "source": []
  },
  {
   "cell_type": "code",
   "execution_count": null,
   "metadata": {},
   "outputs": [],
   "source": []
  },
  {
   "cell_type": "code",
   "execution_count": null,
   "metadata": {},
   "outputs": [],
   "source": []
  },
  {
   "cell_type": "code",
   "execution_count": null,
   "metadata": {},
   "outputs": [],
   "source": []
  },
  {
   "cell_type": "code",
   "execution_count": null,
   "metadata": {},
   "outputs": [],
   "source": []
  },
  {
   "cell_type": "code",
   "execution_count": null,
   "metadata": {},
   "outputs": [],
   "source": []
  },
  {
   "cell_type": "code",
   "execution_count": null,
   "metadata": {},
   "outputs": [],
   "source": []
  },
  {
   "cell_type": "code",
   "execution_count": null,
   "metadata": {},
   "outputs": [],
   "source": []
  },
  {
   "cell_type": "code",
   "execution_count": null,
   "metadata": {},
   "outputs": [],
   "source": []
  },
  {
   "cell_type": "code",
   "execution_count": null,
   "metadata": {},
   "outputs": [],
   "source": []
  },
  {
   "cell_type": "code",
   "execution_count": null,
   "metadata": {},
   "outputs": [],
   "source": []
  },
  {
   "cell_type": "code",
   "execution_count": null,
   "metadata": {},
   "outputs": [],
   "source": []
  },
  {
   "cell_type": "code",
   "execution_count": null,
   "metadata": {},
   "outputs": [],
   "source": []
  },
  {
   "cell_type": "code",
   "execution_count": null,
   "metadata": {},
   "outputs": [],
   "source": [
    "import pyntcloud\n",
    "import pickle\n",
    "import tensorflow as tf\n",
    "import numpy as np\n",
    "import importlib\n",
    "from train import provider\n",
    "from train import box_util"
   ]
  },
  {
   "cell_type": "code",
   "execution_count": null,
   "metadata": {},
   "outputs": [],
   "source": [
    "import tensorflow as tf\n",
    "import numpy as np\n",
    "from model_util import huber_loss"
   ]
  },
  {
   "cell_type": "code",
   "execution_count": null,
   "metadata": {},
   "outputs": [],
   "source": [
    "from model import tf_util"
   ]
  },
  {
   "cell_type": "code",
   "execution_count": null,
   "metadata": {},
   "outputs": [],
   "source": [
    "centers=np.load('./Windows/centers.npy', allow_pickle=True)\n",
    "centroids=np.load('./Windows/centroids.npy', allow_pickle=True)\n",
    "corners=np.load('./Windows/corners.npy', allow_pickle=True)\n",
    "lbh=np.load('./Windows/lbh.npy', allow_pickle=True)\n",
    "extras=np.load('./Windows/extras.npy', allow_pickle=True)\n",
    "heading_angle =np.load('./Windows/heading_angle.npy',allow_pickle=True)\n",
    "residual_centers=np.load('./Windows/res_centerlabels.npy',  allow_pickle=True)\n",
    "padded_voxels=np.load('./Windows/voxels.npy', allow_pickle=True)"
   ]
  },
  {
   "cell_type": "code",
   "execution_count": null,
   "metadata": {},
   "outputs": [],
   "source": []
  },
  {
   "cell_type": "code",
   "execution_count": null,
   "metadata": {},
   "outputs": [],
   "source": [
    "residual_lbh=np.array([x[6] for x in extras])\n",
    "residual_angle=np.array([x[4] for x in extras])\n",
    "angle_class=np.array([x[3] for x in extras])"
   ]
  },
  {
   "cell_type": "code",
   "execution_count": null,
   "metadata": {},
   "outputs": [],
   "source": [
    "residual_angle[0]"
   ]
  },
  {
   "cell_type": "code",
   "execution_count": null,
   "metadata": {},
   "outputs": [],
   "source": [
    "def conv_onehot_angle_bin(x):\n",
    "    temp=np.zeros((12))\n",
    "    temp[x]=1\n",
    "    return temp\n",
    "one_hot_angle_class=[conv_onehot_angle_bin(x) for x in angle_class]\n",
    "residual_angle_labels=[one_hot_angle_class[i]*residual_angle[i] for i in range(residual_angle.shape[0])]"
   ]
  },
  {
   "cell_type": "code",
   "execution_count": null,
   "metadata": {},
   "outputs": [],
   "source": [
    "one_hot_angle_class[0]"
   ]
  },
  {
   "cell_type": "code",
   "execution_count": null,
   "metadata": {},
   "outputs": [],
   "source": [
    "residual_angle_labels[0]"
   ]
  },
  {
   "cell_type": "code",
   "execution_count": null,
   "metadata": {},
   "outputs": [],
   "source": [
    "residual_centers[0]"
   ]
  },
  {
   "cell_type": "code",
   "execution_count": null,
   "metadata": {},
   "outputs": [],
   "source": []
  },
  {
   "cell_type": "code",
   "execution_count": null,
   "metadata": {},
   "outputs": [],
   "source": [
    "np.mean(np.linalg.norm(residual_lbh,axis=1))"
   ]
  },
  {
   "cell_type": "code",
   "execution_count": null,
   "metadata": {},
   "outputs": [],
   "source": [
    "#def create_lbl(i):\n",
    "#    temp=np.zeros(30)\n",
    "#    temp[:]\n",
    "    \n",
    "targets = np.zeros((len(residual_angle_labels),30))\n",
    "targets[:,:3] = residual_centers\n",
    "targets[:,3:6] = residual_lbh\n",
    "targets[:,6:18] = one_hot_angle_class\n",
    "targets[:,18:30] = residual_angle_labels"
   ]
  },
  {
   "cell_type": "code",
   "execution_count": null,
   "metadata": {},
   "outputs": [],
   "source": [
    "def boundingBoxRegression(inp):\n",
    "    conv3d1=tf_util.conv3d(inp,num_output_channels=16,kernel_size=[2,2,2], scope='convr1', bn=True, is_training = True, bn_decay=True)\n",
    "    #conv3d1 = tf_util.max_pool3d(conv3d1, [2,2,2], scope='maxpool1', stride= [2,2,2])\n",
    "    conv3d11=tf_util.conv3d(inp,num_output_channels=16,kernel_size=[1,2,1], scope='convr11', bn=True, is_training = True, bn_decay=True)\n",
    "    conv3d1o=tf.concat([conv3d1,conv3d11 ],axis=4)\n",
    "    conv3d11 = tf_util.max_pool3d(conv3d1o, [2,2,2], scope='maxpool1', stride= [2,2,2])\n",
    "    \n",
    "    conv3d2=tf_util.conv3d(conv3d1,num_output_channels=128,kernel_size=[3,3,3], scope='convr2', bn=True, is_training = True, bn_decay=True)\n",
    "    #conv3d2 = tf_util.max_pool3d(conv3d2, [2,2,2], scope='maxpool2', stride= [2,2,2])\n",
    "    conv3d3=tf_util.conv3d(conv3d2,num_output_channels=256,kernel_size=[2,3,2], scope='convr3', bn=True, is_training = True, bn_decay=True)\n",
    "    \n",
    "    #deconv3d1=tf_util.conv2d_transpose(conv3d1,128,kernel_size=[1,1])\n",
    "    #deconv3d2=tf_util.conv2d_transpose(conv3d2,128,)\n",
    "    \n",
    "    \n",
    "    \n",
    "    dense1 = tf.contrib.layers.flatten(conv3d3)\n",
    "    dense2 = tf_util.fully_connected(dense1, 64, scope='denser2', bn=True, is_training=True, bn_decay=True)\n",
    "    #dense3 = tf_util.fully_connected(dense2,128 , scope='denser3', bn=True, is_training=True, bn_decay=True)\n",
    "    dense4 = tf_util.fully_connected(dense2, 30, activation_fn=None, scope='denser4')\n",
    "    \n",
    "    \n",
    "    return dense4,conv3d1o"
   ]
  },
  {
   "cell_type": "code",
   "execution_count": null,
   "metadata": {},
   "outputs": [],
   "source": [
    "from model_util import g_type_mean_size"
   ]
  },
  {
   "cell_type": "code",
   "execution_count": null,
   "metadata": {},
   "outputs": [],
   "source": [
    "targets.shape"
   ]
  },
  {
   "cell_type": "code",
   "execution_count": null,
   "metadata": {},
   "outputs": [],
   "source": []
  },
  {
   "cell_type": "code",
   "execution_count": null,
   "metadata": {},
   "outputs": [],
   "source": [
    "tf.reset_default_graph()\n",
    "\n",
    "with tf.device('/device:GPU:0'):\n",
    "\n",
    "    voxel_inputs =tf.placeholder(tf.float32,[None,30,45,20, 1])#put placeholder\n",
    "\n",
    "    regress_labels =tf.placeholder(tf.float32,[None,30])\n",
    "\n",
    "    out,abc = boundingBoxRegression(voxel_inputs)\n",
    "    abc=abc.get_shape()\n",
    "    #loss = tf.losses.mean_squared_error(regress_labels, out, scope='loss')\n",
    "    center_loss1=tf.norm(out-regress_labels,axis=1)#out[0:3]\n",
    "    center_loss=tf.reduce_mean(center_loss1)\n",
    "    center_hloss=huber_loss(center_loss1,delta=1.0)\n",
    "    \n",
    "    \n",
    "    residual_sizes_labels=regress_labels[:,3:6]\n",
    "    \n",
    "    #residual_size_labels_normalized=tf.div(residual_sizes_labels,tf.constant(g_type_mean_size['Pedestrian'],dtype=tf.float32))\n",
    "    size_loss1=tf.norm(out[:,3:6]-residual_sizes_labels, axis=1)\n",
    "\n",
    "    #size_loss1=tf.norm(out[:,3:6]-residual_size_labels_normalized, axis=1)\n",
    "    #size_hloss=huber_loss(size_loss1,delta=1.0)\n",
    "    size_loss=tf.reduce_mean(size_loss1)\n",
    "    \n",
    "    \n",
    "    \n",
    "    \n",
    "    heading_class_loss = tf.reduce_mean(tf.nn.softmax_cross_entropy_with_logits(labels=regress_labels[:,6:18],logits=out[:,6:18]))\n",
    "    \n",
    "    heading_residual_label=regress_labels[:,18:30]\n",
    "    heading_residual_normalized_label=heading_residual_label/(np.pi/12)\n",
    "    heading_hloss = huber_loss(tf.reduce_sum(tf.norm(out[:,18:30]-heading_residual_normalized_label,axis=1)*tf.to_float(regress_labels[:,6:18]), axis=1), delta=1.0)\n",
    "    ####loss = tf.reduce_mean(tf.sqrt(tf.reduce_sum(tf.pow(out-regress_labels,2), axis=1)))\n",
    "    \n",
    "                                           \n",
    "    #corner loss\n",
    "                                         \n",
    "    # Volume loss\n",
    "    \n",
    "    loss=1*size_loss#+0*heading_hloss+0*heading_class_loss+0*center_hloss\n",
    "\n",
    "    #loss=0*center_hloss+1*size_hloss+0*heading_hloss+0*heading_class_loss\n",
    "    optimizer = tf.train.AdamOptimizer(1e-3)\n",
    "    #train_step=optimizer.minimize(loss)\n",
    "    update_ops = tf.get_collection(tf.GraphKeys.UPDATE_OPS)\n",
    "    \n",
    "    with tf.control_dependencies(update_ops):\n",
    "        train_op = optimizer.minimize(loss)"
   ]
  },
  {
   "cell_type": "code",
   "execution_count": null,
   "metadata": {
    "scrolled": true
   },
   "outputs": [],
   "source": [
    "pred_center = {}\n",
    "test_pred_center = {}\n",
    "all_losses_train = {}\n",
    "all_losses_test={}\n",
    "saver = tf.train.Saver()\n",
    "with tf.Session(config=tf.ConfigProto(allow_soft_placement=False, log_device_placement=True)) as sess:\n",
    "\n",
    "    sess.run(tf.global_variables_initializer())\n",
    "    #variables_names = [v.name for v in tf.trainable_variables()]\n",
    "    #values = sess.run(variables_names)\n",
    "    #for k, v in zip(variables_names, values):\n",
    "        #print(\"Variable: \", k)\n",
    "        #print(\"Shape: \", v.shape)\n",
    "    # uncomment this when we want to load the checkpoint model\n",
    "    #saver.restore(sess, \"./checkpoints/regression_\"+str(0)+'_'+str(4100)+\".ckpt\")\n",
    "    vox = np.load('./Windows/voxels.npy')\n",
    "    #labels = np.load('./Windows/centerlabels.npy')\n",
    "    assert vox.shape[0]==targets.shape[0]\n",
    "    assert vox[0].shape==(30,45,20)\n",
    "    \n",
    "    for epoch in range(40):\n",
    "        print('**************************************************************************************')\n",
    "        i=0\n",
    "        batch_size=1\n",
    "        pred_center[epoch] = []\n",
    "        all_losses_train[epoch] = []\n",
    "        while(i<(vox.shape[0]-2000)):\n",
    "            _, l,s_loss,c_loss,a, b,hc_loss, pred = sess.run([train_op, loss, size_loss, center_loss,size_loss1,residual_sizes_labels, heading_class_loss, out], feed_dict={voxel_inputs:np.reshape(vox[i:i+batch_size], (batch_size, vox[i:i+batch_size].shape[1],\\\n",
    "                                                                                        vox[i:i+batch_size].shape[2], vox[i:i+batch_size].shape[3], 1)),\\\n",
    "                                                       regress_labels: np.reshape(targets[i:i+batch_size],(batch_size,-1))})\n",
    "#             _, l,s_loss,c_loss,a, b,hc_loss, pred = sess.run([train_op, loss, size_loss, center_loss,size_loss1,residual_sizes_labels, heading_class_loss, out], feed_dict={voxel_inputs:np.reshape(vox[i:i+batch_size], (batch_size, vox[i:i+batch_size].shape[1],\\\n",
    "#                                                                                         vox[i:i+batch_size].shape[2], vox[i:i+batch_size].shape[3], 1)),\\\n",
    "#                                                        regress_labels: np.reshape(targets[i:i+batch_size],(batch_size,-1))})\n",
    "            i+=batch_size\n",
    "            #print('epoch=',epoch,'batch=',i,'loss=',l)\n",
    "            #print('OOOOOOOOOOOOOOOOOOOOOOOOOOOOOOOOOOOOOOOOOOOOOOO')\n",
    "            #print(a)\n",
    "            #print(b)\n",
    "            #print(pred[:,3:6])\n",
    "            print(l)\n",
    "            #print('OOOOOOOOOOOOOOOOOOOOOOOOOOOOOOOOOOOOOOOOOOOOOOO')\n",
    "            pred_center[epoch].append([pred,i,l])\n",
    "            all_losses_train[epoch].append([s_loss,c_loss,hc_loss])\n",
    "            if i%100<5:\n",
    "                save_path = saver.save(sess, \"./checkpoints/regression_\"+str(epoch)+'_'+str(i)+\".ckpt\")\n",
    "                print('%%%%%%%%%%%%%%%%%%%%%%%%%%AverageLoss%%%%%%%%%%%%%%%%%%%%%%%%%%%%%%%%%%%%%%%%%%%%')\n",
    "                print(np.mean(np.array(all_losses_train[epoch]),axis=0))\n",
    "                np.save('./Windows/train_pred_'+str(epoch), np.array(pred_center[epoch]), allow_pickle=True)\n",
    "                np.save('./Windows/train_loss_'+str(epoch), np.array(all_losses_train[epoch]), allow_pickle=True)\n",
    "                \n",
    "                #print(np.mean(np.array(pred_center[epoch]), axis=0)[2])\n",
    "        test=vox.shape[0]-2000\n",
    "        test_pred_center[epoch]=[]\n",
    "        all_losses_test[epoch] = []\n",
    "\n",
    "        while(test<(vox.shape[0])):\n",
    "            l,s_loss,c_loss,hc_loss, pred = sess.run([loss, size_loss, center_loss, heading_class_loss,out], feed_dict={voxel_inputs:np.reshape(vox[test:test+batch_size], (batch_size, vox[test:test+batch_size].shape[1],\\\n",
    "                                                                                        vox[test:test+batch_size].shape[2], vox[test:test+batch_size].shape[3], 1)),\\\n",
    "                                                       regress_labels: np.reshape(targets[test:test+batch_size],(batch_size,-1))})\n",
    "            test+=batch_size\n",
    "            print('&&&&&&&&&&&&&&&&&&&&&&&&&&&&&&&&&&&&&&&&&&&&&&&&&&&&&&&&&&&&&&&&&&&&&&&&&&&&&&&&&&&&&&&&&&')\n",
    "            print('epoch=',epoch,'batch=',test,'loss=',l)\n",
    "            test_pred_center[epoch].append([pred,test,l])\n",
    "            all_losses_test[epoch].append([s_loss,c_loss,hc_loss])\n",
    "            np.save('./Windows/test_pred_'+str(epoch), np.array(test_pred_center[epoch]), allow_pickle=True)\n",
    "            np.save('./Windows/test_loss_'+str(epoch), np.array(all_losses_test[epoch]), allow_pickle=True)\n",
    "            if test%50<5:\n",
    "                print('%%%%%%%%%%%%%%%%%%%%%%%%%%AverageLoss%%%%%%%%%%%%%%%%%%%%%%%%%%%%%%%%%%%%%%%%%%%%')\n",
    "                print(np.mean(np.array(all_losses_test[epoch]),axis=0))\n",
    "\n",
    "                #print([l,s_loss,c_loss,hc_loss])\n",
    "                \n",
    "                #print(np.mean(np.array(test_pred_center[epoch]), axis=0)[2])"
   ]
  },
  {
   "cell_type": "code",
   "execution_count": null,
   "metadata": {
    "scrolled": true
   },
   "outputs": [],
   "source": [
    "all_losses_train[0][0]"
   ]
  },
  {
   "cell_type": "code",
   "execution_count": null,
   "metadata": {},
   "outputs": [],
   "source": [
    "pred_center = {}\n",
    "test_pred_center = {}\n",
    "saver = tf.train.Saver()\n",
    "with tf.Session(config=tf.ConfigProto(allow_soft_placement=True, log_device_placement=True)) as sess:\n",
    "\n",
    "    sess.run(tf.global_variables_initializer())\n",
    "    #variables_names = [v.name for v in tf.trainable_variables()]\n",
    "    #values = sess.run(variables_names)\n",
    "    #for k, v in zip(variables_names, values):\n",
    "        #print(\"Variable: \", k)\n",
    "        #print(\"Shape: \", v.shape)\n",
    "    # uncomment this when we want to load the checkpoint model\n",
    "    saver.restore(sess, \"./checkpoints/regression_\"+str(15)+'_'+str(5000)+\".ckpt\")\n",
    "    vox = np.load('./Windows/voxels.npy')\n",
    "    labels = np.load('./Windows/lbh.npy')\n",
    "    assert vox.shape[0]==labels.shape[0]\n",
    "    assert vox[0].shape==(30,45,20)\n",
    "    \n",
    "    for epoch in range(40):\n",
    "        print('**************************************************************************************')\n",
    "        i=0\n",
    "        batch_size=5\n",
    "        pred_center[epoch] = []\n",
    "        while(i<(vox.shape[0]-2000)):\n",
    "            _, l, center = sess.run([train_op, loss, out], feed_dict={voxel_inputs:np.reshape(vox[i:i+batch_size], (batch_size, vox[i:i+batch_size].shape[1],\\\n",
    "                                                                                        vox[i:i+batch_size].shape[2], vox[i:i+batch_size].shape[3], 1)),\\\n",
    "                                                       regress_labels: np.reshape(labels[i:i+batch_size],(batch_size,-1))})\n",
    "            i+=batch_size\n",
    "            print('epoch=',epoch,'batch=',i,'loss=',l)\n",
    "            pred_center[epoch].append([center,i,l])\n",
    "            if i%1000==0:\n",
    "                save_path = saver.save(sess, \"./checkpoints/lbhregression_\"+str(epoch)+'_'+str(i)+\".ckpt\")\n",
    "                print('%%%%%%%%%%%%%%%%%%%%%%%%%%AverageLoss%%%%%%%%%%%%%%%%%%%%%%%%%%%%%%%%%%%%%%%%%%%%')\n",
    "                print(np.mean(np.array(pred_center[epoch]), axis=0)[2])\n",
    "        test=vox.shape[0]-2000\n",
    "        test_pred_center[epoch]=[]\n",
    "        while(test<(vox.shape[0])):\n",
    "            l, center = sess.run([loss, out], feed_dict={voxel_inputs:np.reshape(vox[test:test+batch_size], (batch_size, vox[test:test+batch_size].shape[1],\\\n",
    "                                                                                        vox[test:test+batch_size].shape[2], vox[test:test+batch_size].shape[3], 1)),\\\n",
    "                                                       regress_labels: np.reshape(labels[test:test+batch_size],(batch_size,-1))})\n",
    "            test+=batch_size\n",
    "            print('&&&&&&&&&&&&&&&&&&&&&&&&&&&&&&&&&&&&&&&&&&&&&&&&&&&&&&&&&&&&&&&&&&&&&&&&&&&&&&&&&&&&&&&&&&')\n",
    "            print('epoch=',epoch,'batch=',test,'loss=',l)\n",
    "            test_pred_center[epoch].append([center,test,l])\n",
    "            if test%500<5:\n",
    "                print('%%%%%%%%%%%%%%%%%%%%%%%%%%AverageLoss%%%%%%%%%%%%%%%%%%%%%%%%%%%%%%%%%%%%%%%%%%%%')\n",
    "                print(np.mean(np.array(test_pred_center[epoch]), axis=0)[2])"
   ]
  },
  {
   "cell_type": "code",
   "execution_count": null,
   "metadata": {},
   "outputs": [],
   "source": [
    "#huber loss\n",
    "#gradient clipping\n"
   ]
  },
  {
   "cell_type": "code",
   "execution_count": null,
   "metadata": {},
   "outputs": [],
   "source": [
    "labels.shape"
   ]
  },
  {
   "cell_type": "code",
   "execution_count": null,
   "metadata": {},
   "outputs": [],
   "source": [
    "plt.hist(labels[:,0])"
   ]
  },
  {
   "cell_type": "code",
   "execution_count": null,
   "metadata": {},
   "outputs": [],
   "source": [
    "np.std(labels[:,0])"
   ]
  },
  {
   "cell_type": "code",
   "execution_count": null,
   "metadata": {},
   "outputs": [],
   "source": [
    "plt.hist(labels[:,1])"
   ]
  },
  {
   "cell_type": "code",
   "execution_count": null,
   "metadata": {},
   "outputs": [],
   "source": [
    "np.std(labels[:,1])"
   ]
  },
  {
   "cell_type": "code",
   "execution_count": null,
   "metadata": {},
   "outputs": [],
   "source": [
    "plt.hist(labels[:,2])"
   ]
  },
  {
   "cell_type": "code",
   "execution_count": null,
   "metadata": {},
   "outputs": [],
   "source": [
    "np.std(labels[:,2])"
   ]
  },
  {
   "cell_type": "code",
   "execution_count": null,
   "metadata": {},
   "outputs": [],
   "source": []
  }
 ],
 "metadata": {
  "kernelspec": {
   "display_name": "Python 3",
   "language": "python",
   "name": "python3"
  },
  "language_info": {
   "codemirror_mode": {
    "name": "ipython",
    "version": 3
   },
   "file_extension": ".py",
   "mimetype": "text/x-python",
   "name": "python",
   "nbconvert_exporter": "python",
   "pygments_lexer": "ipython3",
   "version": "3.6.4"
  }
 },
 "nbformat": 4,
 "nbformat_minor": 2
}
